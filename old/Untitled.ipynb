{
 "cells": [
  {
   "cell_type": "code",
   "execution_count": 2,
   "id": "b87be537",
   "metadata": {},
   "outputs": [],
   "source": [
    "import matplotlib.pyplot as plt\n",
    "import pandas as p\n",
    "import seaborn as sns\n",
    "import numpy as np\n",
    "%matplotlib inline"
   ]
  },
  {
   "cell_type": "code",
   "execution_count": 8,
   "id": "a20d997c",
   "metadata": {},
   "outputs": [],
   "source": [
    "standard = p.read_csv('data/allBarcodeCounts_standard.tab',delimiter='\\t')\n",
    "none = p.read_csv('data/allBarcodeCounts_none.tab',delimiter='\\t')\n",
    "forward = p.read_csv('data/allBarcodeCounts_forward.tab',delimiter='\\t')\n",
    "reverse = p.read_csv('data/allBarcodeCounts_reverse.tab',delimiter='\\t')\n",
    "either = p.read_csv('data/allBarcodeCounts_either.tab',delimiter='\\t')\n",
    "\n",
    "\n",
    "old = p.read_csv('/Users/grantkinsler/Documents/Stanford/Research/1BigBatchPaper/data/old_data/allBarcodeCounts_doubleBC_OneAncestor.tab',delimiter='\\t')"
   ]
  },
  {
   "cell_type": "code",
   "execution_count": 12,
   "id": "1cd20190",
   "metadata": {},
   "outputs": [
    {
     "data": {
      "text/plain": [
       "<matplotlib.collections.PathCollection at 0x7f83f2ad4220>"
      ]
     },
     "execution_count": 12,
     "metadata": {},
     "output_type": "execute_result"
    },
    {
     "data": {
      "image/png": "[encoded data removed]",
      "text/plain": [
       "<Figure size 432x288 with 1 Axes>"
      ]
     },
     "metadata": {
      "needs_background": "light"
     },
     "output_type": "display_data"
    }
   ],
   "source": [
    "plt.scatter(standard['F3-DE1-PCRa'],old['All_Groups_AncestorIncluded_Output/F3-DE1-PCRa_barcodeCounts_bowtie2.tab'])"
   ]
  },
  {
   "cell_type": "code",
   "execution_count": 13,
   "id": "350db4d5",
   "metadata": {},
   "outputs": [
    {
     "data": {
      "text/plain": [
       "<matplotlib.collections.PathCollection at 0x7f83f032eb80>"
      ]
     },
     "execution_count": 13,
     "metadata": {},
     "output_type": "execute_result"
    },
    {
     "data": {
      "image/png": "[encoded data removed]",
      "text/plain": [
       "<Figure size 432x288 with 1 Axes>"
      ]
     },
     "metadata": {
      "needs_background": "light"
     },
     "output_type": "display_data"
    }
   ],
   "source": [
    "plt.scatter(standard['A3-DE1-PCRa'],old['All_Groups_AncestorIncluded_Output/A3-DE1-PCRa_barcodeCounts_bowtie2.tab'])"
   ]
  },
  {
   "cell_type": "code",
   "execution_count": 14,
   "id": "a1b15869",
   "metadata": {},
   "outputs": [
    {
     "data": {
      "text/plain": [
       "<matplotlib.collections.PathCollection at 0x7f83f28294c0>"
      ]
     },
     "execution_count": 14,
     "metadata": {},
     "output_type": "execute_result"
    },
    {
     "data": {
      "image/png": "[encoded data removed]",
      "text/plain": [
       "<Figure size 432x288 with 1 Axes>"
      ]
     },
     "metadata": {
      "needs_background": "light"
     },
     "output_type": "display_data"
    }
   ],
   "source": [
    "plt.scatter(standard['B3-DE1-PCRa'],old['All_Groups_AncestorIncluded_Output/B3-DE1-PCRa_barcodeCounts_bowtie2.tab'])"
   ]
  },
  {
   "cell_type": "code",
   "execution_count": 7,
   "id": "33274f85",
   "metadata": {},
   "outputs": [
    {
     "data": {
      "text/plain": [
       "['1.4%-R2-T1',\n",
       " '1.4%-R2-T2',\n",
       " '1.4%-R2-T3',\n",
       " '1.4%-R2-T4',\n",
       " '1.5%-R1-T1',\n",
       " '1.5%-R2-T1',\n",
       " '1.5%-R2-T2',\n",
       " '1.5%-R2-T3',\n",
       " '1.5%-R2-T4',\n",
       " '1.5%-T0',\n",
       " '1.6%-R1-T4',\n",
       " '1.6%-R2-T2',\n",
       " '1.6%-R2-T3',\n",
       " '1.6%-R2-T4',\n",
       " '1.6%-T0',\n",
       " '1.7%-R1-T3',\n",
       " '1.7%-R2-T1',\n",
       " '1.7%-R2-T2',\n",
       " '1.7%-R2-T3',\n",
       " '1.7%-R2-T4',\n",
       " '1.8%-R1-T1',\n",
       " '1.8%-R1-T4',\n",
       " '1.8%-R2-T1',\n",
       " '1.8%-R2-T2',\n",
       " '1.8%-R2-T3',\n",
       " '1.8%-R2-T4',\n",
       " '2.5%-R1-T1',\n",
       " '2.5%-R1-T2',\n",
       " '2.5%-R2-T1',\n",
       " '2.5%-R2-T3',\n",
       " '2.5%-R2-T4',\n",
       " 'A0-DE1-PCRb',\n",
       " 'A0-DE2-PCRa',\n",
       " 'A3-DE1-PCRb',\n",
       " 'A4-DE1-PCRb',\n",
       " 'AA3-DE1-PCRa',\n",
       " 'AA4-DE1-PCRa',\n",
       " 'B3-DE1-PCRc',\n",
       " 'Ben0.4-R1-T3',\n",
       " 'Ben0.4-R1-T4',\n",
       " 'Ben0.4-R2-T1',\n",
       " 'Ben0.4-R2-T2',\n",
       " 'Ben0.4-R2-T3',\n",
       " 'Ben0.4-R2-T4',\n",
       " 'Ben10-R1-T4',\n",
       " 'Ben10-R2-T3',\n",
       " 'Ben10-R2-T4',\n",
       " 'Ben2-R1-T4',\n",
       " 'Ben2-R2-T1',\n",
       " 'Ben2-R2-T2',\n",
       " 'Ben2-R2-T3',\n",
       " 'Ben2-R2-T4',\n",
       " 'C0-DE1-PCRc',\n",
       " 'C0-DE2-PCRa',\n",
       " 'C1-DE1-PCRb',\n",
       " 'C2-DE1-PCRa',\n",
       " 'C2-DE2-PCRa',\n",
       " 'CC3-DE1-PCRa',\n",
       " 'D0-DE1-PCRa',\n",
       " 'D0-DE2-PCRa',\n",
       " 'D2-DE1-PCRb',\n",
       " 'DD0-DE1-PCRa',\n",
       " 'E0-DE1-PCRa',\n",
       " 'E0-DE2-PCRa',\n",
       " 'E3-DE1-PCRa',\n",
       " 'EE2-DE1-PCRa',\n",
       " 'FF3-DE1-PCRa',\n",
       " 'G2-DE1-PCRa',\n",
       " 'G4-DE1-PCRa',\n",
       " 'GG1-DE1-PCRa',\n",
       " 'H2-DE1-PCRa',\n",
       " 'J2-DE1-PCRa',\n",
       " 'K0-DE1-PCRb',\n",
       " 'K2-DE1-PCRa',\n",
       " 'L1-DE1-PCRa',\n",
       " 'M1-DE1-PCRa',\n",
       " 'M3-DE1-PCRa',\n",
       " 'N3-DE1-PCRa',\n",
       " 'P1-DE1-PCRa',\n",
       " 'P3-DE1-PCRa',\n",
       " 'Q0-DE1-PCRa',\n",
       " 'Q1-DE1-PCRa',\n",
       " 'T1-DE1-PCRa',\n",
       " 'V2-DE1-PCRa',\n",
       " 'Y0-DE2-PCRb',\n",
       " 'Y4-DE1-PCRb',\n",
       " 'Y4-DE3-PCRa',\n",
       " 'Y4-DE4-PCRa',\n",
       " 'Z0-DE2-PCRa',\n",
       " 'Z2-DE1-PCRb']"
      ]
     },
     "execution_count": 7,
     "metadata": {},
     "output_type": "execute_result"
    }
   ],
   "source": [
    "sorted(standard.columns[np.where(np.sum(standard.values,axis=0)==0)])"
   ]
  },
  {
   "cell_type": "code",
   "execution_count": 11,
   "id": "d04424a5",
   "metadata": {},
   "outputs": [
    {
     "data": {
      "text/html": [
       "<div>\n",
       "<style scoped>\n",
       "    .dataframe tbody tr th:only-of-type {\n",
       "        vertical-align: middle;\n",
       "    }\n",
       "\n",
       "    .dataframe tbody tr th {\n",
       "        vertical-align: top;\n",
       "    }\n",
       "\n",
       "    .dataframe thead th {\n",
       "        text-align: right;\n",
       "    }\n",
       "</style>\n",
       "<table border=\"1\" class=\"dataframe\">\n",
       "  <thead>\n",
       "    <tr style=\"text-align: right;\">\n",
       "      <th></th>\n",
       "      <th>BCID</th>\n",
       "      <th>EE0-DE1-PCRa</th>\n",
       "      <th>13-4-1</th>\n",
       "      <th>13-0_pool</th>\n",
       "      <th>H3-DE1-PCRa</th>\n",
       "      <th>3-4-3</th>\n",
       "      <th>13-1-3</th>\n",
       "      <th>X1-DE1-PCRa</th>\n",
       "      <th>23-0</th>\n",
       "      <th>Ben10-R1-T1</th>\n",
       "      <th>...</th>\n",
       "      <th>23-2-2</th>\n",
       "      <th>1.8%-T0</th>\n",
       "      <th>A0-DE1-PCRa</th>\n",
       "      <th>B1-DE1-PCRa</th>\n",
       "      <th>F4-DE1-PCRb</th>\n",
       "      <th>D1-DE1-PCRa</th>\n",
       "      <th>6-2-3</th>\n",
       "      <th>23-3-1</th>\n",
       "      <th>D0-DE1-PCRa</th>\n",
       "      <th>D2-DE1-PCRa</th>\n",
       "    </tr>\n",
       "  </thead>\n",
       "  <tbody>\n",
       "    <tr>\n",
       "      <th>0</th>\n",
       "      <td>53</td>\n",
       "      <td>2520</td>\n",
       "      <td>0</td>\n",
       "      <td>0</td>\n",
       "      <td>151</td>\n",
       "      <td>0</td>\n",
       "      <td>1</td>\n",
       "      <td>3</td>\n",
       "      <td>2875</td>\n",
       "      <td>54</td>\n",
       "      <td>...</td>\n",
       "      <td>2986</td>\n",
       "      <td>74</td>\n",
       "      <td>1303</td>\n",
       "      <td>506</td>\n",
       "      <td>3720</td>\n",
       "      <td>4192</td>\n",
       "      <td>0</td>\n",
       "      <td>1669</td>\n",
       "      <td>0</td>\n",
       "      <td>1880</td>\n",
       "    </tr>\n",
       "    <tr>\n",
       "      <th>1</th>\n",
       "      <td>151</td>\n",
       "      <td>23811</td>\n",
       "      <td>163</td>\n",
       "      <td>11</td>\n",
       "      <td>15613</td>\n",
       "      <td>384</td>\n",
       "      <td>51</td>\n",
       "      <td>39</td>\n",
       "      <td>16938</td>\n",
       "      <td>9</td>\n",
       "      <td>...</td>\n",
       "      <td>43711</td>\n",
       "      <td>1391</td>\n",
       "      <td>15643</td>\n",
       "      <td>13966</td>\n",
       "      <td>454217</td>\n",
       "      <td>85595</td>\n",
       "      <td>96</td>\n",
       "      <td>63016</td>\n",
       "      <td>0</td>\n",
       "      <td>78644</td>\n",
       "    </tr>\n",
       "    <tr>\n",
       "      <th>2</th>\n",
       "      <td>262</td>\n",
       "      <td>1801</td>\n",
       "      <td>0</td>\n",
       "      <td>1</td>\n",
       "      <td>127</td>\n",
       "      <td>1</td>\n",
       "      <td>4</td>\n",
       "      <td>1</td>\n",
       "      <td>2627</td>\n",
       "      <td>142</td>\n",
       "      <td>...</td>\n",
       "      <td>2414</td>\n",
       "      <td>254</td>\n",
       "      <td>1207</td>\n",
       "      <td>332</td>\n",
       "      <td>2684</td>\n",
       "      <td>3011</td>\n",
       "      <td>0</td>\n",
       "      <td>1196</td>\n",
       "      <td>0</td>\n",
       "      <td>1430</td>\n",
       "    </tr>\n",
       "    <tr>\n",
       "      <th>3</th>\n",
       "      <td>273</td>\n",
       "      <td>10373</td>\n",
       "      <td>44</td>\n",
       "      <td>4</td>\n",
       "      <td>4162</td>\n",
       "      <td>112</td>\n",
       "      <td>58</td>\n",
       "      <td>17</td>\n",
       "      <td>8293</td>\n",
       "      <td>8</td>\n",
       "      <td>...</td>\n",
       "      <td>15349</td>\n",
       "      <td>1870</td>\n",
       "      <td>7261</td>\n",
       "      <td>5908</td>\n",
       "      <td>210309</td>\n",
       "      <td>33880</td>\n",
       "      <td>12</td>\n",
       "      <td>16909</td>\n",
       "      <td>0</td>\n",
       "      <td>26521</td>\n",
       "    </tr>\n",
       "    <tr>\n",
       "      <th>4</th>\n",
       "      <td>323</td>\n",
       "      <td>4283</td>\n",
       "      <td>17</td>\n",
       "      <td>4</td>\n",
       "      <td>1249</td>\n",
       "      <td>65</td>\n",
       "      <td>22</td>\n",
       "      <td>9</td>\n",
       "      <td>10422</td>\n",
       "      <td>1</td>\n",
       "      <td>...</td>\n",
       "      <td>22067</td>\n",
       "      <td>774</td>\n",
       "      <td>3611</td>\n",
       "      <td>2079</td>\n",
       "      <td>138955</td>\n",
       "      <td>18874</td>\n",
       "      <td>15</td>\n",
       "      <td>20784</td>\n",
       "      <td>0</td>\n",
       "      <td>11490</td>\n",
       "    </tr>\n",
       "    <tr>\n",
       "      <th>...</th>\n",
       "      <td>...</td>\n",
       "      <td>...</td>\n",
       "      <td>...</td>\n",
       "      <td>...</td>\n",
       "      <td>...</td>\n",
       "      <td>...</td>\n",
       "      <td>...</td>\n",
       "      <td>...</td>\n",
       "      <td>...</td>\n",
       "      <td>...</td>\n",
       "      <td>...</td>\n",
       "      <td>...</td>\n",
       "      <td>...</td>\n",
       "      <td>...</td>\n",
       "      <td>...</td>\n",
       "      <td>...</td>\n",
       "      <td>...</td>\n",
       "      <td>...</td>\n",
       "      <td>...</td>\n",
       "      <td>...</td>\n",
       "      <td>...</td>\n",
       "    </tr>\n",
       "    <tr>\n",
       "      <th>545</th>\n",
       "      <td>9000108</td>\n",
       "      <td>0</td>\n",
       "      <td>0</td>\n",
       "      <td>0</td>\n",
       "      <td>0</td>\n",
       "      <td>0</td>\n",
       "      <td>0</td>\n",
       "      <td>0</td>\n",
       "      <td>0</td>\n",
       "      <td>0</td>\n",
       "      <td>...</td>\n",
       "      <td>0</td>\n",
       "      <td>0</td>\n",
       "      <td>0</td>\n",
       "      <td>0</td>\n",
       "      <td>1</td>\n",
       "      <td>0</td>\n",
       "      <td>0</td>\n",
       "      <td>0</td>\n",
       "      <td>0</td>\n",
       "      <td>0</td>\n",
       "    </tr>\n",
       "    <tr>\n",
       "      <th>546</th>\n",
       "      <td>9000109</td>\n",
       "      <td>499</td>\n",
       "      <td>0</td>\n",
       "      <td>0</td>\n",
       "      <td>308</td>\n",
       "      <td>0</td>\n",
       "      <td>0</td>\n",
       "      <td>0</td>\n",
       "      <td>0</td>\n",
       "      <td>0</td>\n",
       "      <td>...</td>\n",
       "      <td>0</td>\n",
       "      <td>3</td>\n",
       "      <td>340</td>\n",
       "      <td>185</td>\n",
       "      <td>1368</td>\n",
       "      <td>1803</td>\n",
       "      <td>0</td>\n",
       "      <td>0</td>\n",
       "      <td>0</td>\n",
       "      <td>1070</td>\n",
       "    </tr>\n",
       "    <tr>\n",
       "      <th>547</th>\n",
       "      <td>9000110</td>\n",
       "      <td>2999</td>\n",
       "      <td>0</td>\n",
       "      <td>0</td>\n",
       "      <td>1897</td>\n",
       "      <td>0</td>\n",
       "      <td>0</td>\n",
       "      <td>3</td>\n",
       "      <td>0</td>\n",
       "      <td>0</td>\n",
       "      <td>...</td>\n",
       "      <td>0</td>\n",
       "      <td>12</td>\n",
       "      <td>1880</td>\n",
       "      <td>986</td>\n",
       "      <td>8613</td>\n",
       "      <td>9746</td>\n",
       "      <td>0</td>\n",
       "      <td>0</td>\n",
       "      <td>0</td>\n",
       "      <td>5559</td>\n",
       "    </tr>\n",
       "    <tr>\n",
       "      <th>548</th>\n",
       "      <td>7777777</td>\n",
       "      <td>0</td>\n",
       "      <td>0</td>\n",
       "      <td>0</td>\n",
       "      <td>0</td>\n",
       "      <td>0</td>\n",
       "      <td>0</td>\n",
       "      <td>0</td>\n",
       "      <td>7</td>\n",
       "      <td>4</td>\n",
       "      <td>...</td>\n",
       "      <td>2</td>\n",
       "      <td>10</td>\n",
       "      <td>4</td>\n",
       "      <td>0</td>\n",
       "      <td>181</td>\n",
       "      <td>10</td>\n",
       "      <td>0</td>\n",
       "      <td>1</td>\n",
       "      <td>0</td>\n",
       "      <td>5</td>\n",
       "    </tr>\n",
       "    <tr>\n",
       "      <th>549</th>\n",
       "      <td>9999999</td>\n",
       "      <td>625912</td>\n",
       "      <td>5</td>\n",
       "      <td>0</td>\n",
       "      <td>58425</td>\n",
       "      <td>10</td>\n",
       "      <td>12</td>\n",
       "      <td>1270</td>\n",
       "      <td>1593375</td>\n",
       "      <td>23174</td>\n",
       "      <td>...</td>\n",
       "      <td>1753881</td>\n",
       "      <td>60981</td>\n",
       "      <td>686388</td>\n",
       "      <td>312753</td>\n",
       "      <td>5962794</td>\n",
       "      <td>1347721</td>\n",
       "      <td>1</td>\n",
       "      <td>1202620</td>\n",
       "      <td>0</td>\n",
       "      <td>384133</td>\n",
       "    </tr>\n",
       "  </tbody>\n",
       "</table>\n",
       "<p>550 rows × 418 columns</p>\n",
       "</div>"
      ],
      "text/plain": [
       "        BCID  EE0-DE1-PCRa  13-4-1  13-0_pool  H3-DE1-PCRa  3-4-3  13-1-3  \\\n",
       "0         53          2520       0          0          151      0       1   \n",
       "1        151         23811     163         11        15613    384      51   \n",
       "2        262          1801       0          1          127      1       4   \n",
       "3        273         10373      44          4         4162    112      58   \n",
       "4        323          4283      17          4         1249     65      22   \n",
       "..       ...           ...     ...        ...          ...    ...     ...   \n",
       "545  9000108             0       0          0            0      0       0   \n",
       "546  9000109           499       0          0          308      0       0   \n",
       "547  9000110          2999       0          0         1897      0       0   \n",
       "548  7777777             0       0          0            0      0       0   \n",
       "549  9999999        625912       5          0        58425     10      12   \n",
       "\n",
       "     X1-DE1-PCRa     23-0  Ben10-R1-T1  ...   23-2-2  1.8%-T0  A0-DE1-PCRa  \\\n",
       "0              3     2875           54  ...     2986       74         1303   \n",
       "1             39    16938            9  ...    43711     1391        15643   \n",
       "2              1     2627          142  ...     2414      254         1207   \n",
       "3             17     8293            8  ...    15349     1870         7261   \n",
       "4              9    10422            1  ...    22067      774         3611   \n",
       "..           ...      ...          ...  ...      ...      ...          ...   \n",
       "545            0        0            0  ...        0        0            0   \n",
       "546            0        0            0  ...        0        3          340   \n",
       "547            3        0            0  ...        0       12         1880   \n",
       "548            0        7            4  ...        2       10            4   \n",
       "549         1270  1593375        23174  ...  1753881    60981       686388   \n",
       "\n",
       "     B1-DE1-PCRa  F4-DE1-PCRb  D1-DE1-PCRa  6-2-3   23-3-1  D0-DE1-PCRa  \\\n",
       "0            506         3720         4192      0     1669            0   \n",
       "1          13966       454217        85595     96    63016            0   \n",
       "2            332         2684         3011      0     1196            0   \n",
       "3           5908       210309        33880     12    16909            0   \n",
       "4           2079       138955        18874     15    20784            0   \n",
       "..           ...          ...          ...    ...      ...          ...   \n",
       "545            0            1            0      0        0            0   \n",
       "546          185         1368         1803      0        0            0   \n",
       "547          986         8613         9746      0        0            0   \n",
       "548            0          181           10      0        1            0   \n",
       "549       312753      5962794      1347721      1  1202620            0   \n",
       "\n",
       "     D2-DE1-PCRa  \n",
       "0           1880  \n",
       "1          78644  \n",
       "2           1430  \n",
       "3          26521  \n",
       "4          11490  \n",
       "..           ...  \n",
       "545            0  \n",
       "546         1070  \n",
       "547         5559  \n",
       "548            5  \n",
       "549       384133  \n",
       "\n",
       "[550 rows x 418 columns]"
      ]
     },
     "execution_count": 11,
     "metadata": {},
     "output_type": "execute_result"
    }
   ],
   "source": [
    "standard"
   ]
  },
  {
   "cell_type": "code",
   "execution_count": 24,
   "id": "bcd41194",
   "metadata": {},
   "outputs": [],
   "source": [
    "len(np.sum(either.values,axis=0)[1:])\n",
    "len(np.sum(standard.values,axis=0)[1:])\n",
    "\n",
    "either_columns = [col for col in either.columns if col != 'BCID']"
   ]
  },
  {
   "cell_type": "code",
   "execution_count": 41,
   "id": "4a97d887",
   "metadata": {},
   "outputs": [
    {
     "data": {
      "text/plain": [
       "['EE0-DE1-PCRa',\n",
       " '13-4-1',\n",
       " '13-0_pool',\n",
       " 'H3-DE1-PCRa',\n",
       " '3-4-3',\n",
       " '13-1-3',\n",
       " 'X1-DE1-PCRa',\n",
       " '23-0',\n",
       " 'Ben10-R1-T1',\n",
       " '2.5%-R2-T2',\n",
       " 'GG4-DE1-PCRa',\n",
       " '18-1-2',\n",
       " 'R1-DE1-PCRa',\n",
       " 'U4-DE1-PCRa',\n",
       " '1.6%-R2-T3',\n",
       " 'O4-DE1-PCRa',\n",
       " '3-3-2',\n",
       " 'A4-DE1-PCRb',\n",
       " '2.5%-T0',\n",
       " 'G1-DE1-PCRa',\n",
       " 'B3-DE1-PCRc',\n",
       " 'X0-DE1-PCRa',\n",
       " 'M1-DE1-PCRa',\n",
       " 'C2-DE3-PCRa',\n",
       " 'J0-DE1-PCRb',\n",
       " '21-4-1',\n",
       " '20-1-3',\n",
       " '21-2-3',\n",
       " 'Y0-DE3-PCRa',\n",
       " 'S1-DE1-PCRa',\n",
       " 'J4-DE1-PCRa',\n",
       " 'Y2-DE2-PCRa',\n",
       " '6-0',\n",
       " 'B2-DE1-PCRb',\n",
       " '13-3-1',\n",
       " 'D0-DE2-PCRa',\n",
       " '20-2-2',\n",
       " '13-3-2',\n",
       " '1.5%-R2-T1',\n",
       " 'K0-DE1-PCRa',\n",
       " 'C4-DE3-PCRb',\n",
       " 'Z1-DE1-PCRa',\n",
       " 'A2-DE1-PCRa',\n",
       " 'A2-DE1-PCRb',\n",
       " '1.7%-R1-T3',\n",
       " 'E3-DE1-PCRb',\n",
       " 'A0-DE2-PCRa',\n",
       " '3-1-3',\n",
       " 'CC2-DE1-PCRa',\n",
       " 'G4-DE1-PCRa',\n",
       " 'A0-DE1-PCRb',\n",
       " '3-4-1',\n",
       " 'X2-DE1-PCRa',\n",
       " 'I2-DE1-PCRa',\n",
       " 'W2-DE1-PCRa',\n",
       " '2.5%-R1-T2',\n",
       " '13-1-2',\n",
       " 'Ben10-T0',\n",
       " 'L1-DE1-PCRa',\n",
       " 'M2-DE1-PCRa',\n",
       " 'B0-DE1-PCRa',\n",
       " 'BB3-DE1-PCRa',\n",
       " 'BB2-DE1-PCRa',\n",
       " '1.6%-R1-T1',\n",
       " 'B1-DE2-PCRa',\n",
       " '3-4-2',\n",
       " 'I1-DE1-PCRa',\n",
       " '21-3-2',\n",
       " 'W3-DE1-PCRa',\n",
       " 'U1-DE1-PCRa',\n",
       " 'C2-DE3-PCRb',\n",
       " '1.7%-R1-T1',\n",
       " '18-4-1',\n",
       " 'GG1-DE1-PCRa',\n",
       " 'B3-DE1-PCRb',\n",
       " 'E4-DE1-PCRb',\n",
       " '21-4-3',\n",
       " 'D3-DE1-PCRa',\n",
       " '13-3-3',\n",
       " 'FF0-DE1-PCRa',\n",
       " '1.8%-R2-T3',\n",
       " '23-4-3',\n",
       " 'CC0-DE1-PCRa',\n",
       " 'N2-DE1-PCRa',\n",
       " 'Ben2-R2-T1',\n",
       " 'Z2-DE1-PCRa',\n",
       " 'Y0-DE2-PCRa',\n",
       " 'I0-DE1-PCRa',\n",
       " '18-3-3',\n",
       " '1.4%-T0',\n",
       " 'T2-DE1-PCRa',\n",
       " '18-3-2',\n",
       " 'C1-DE1-PCRc',\n",
       " 'Ben0.4-R2-T1',\n",
       " 'R2-DE1-PCRa',\n",
       " 'CC4-DE1-PCRa',\n",
       " 'B4-DE4-PCRa',\n",
       " 'S2-DE1-PCRa',\n",
       " 'V0-DE1-PCRa',\n",
       " '23-1-3',\n",
       " '23-3-2',\n",
       " 'W0-DE1-PCRa',\n",
       " 'Z4-DE1-PCRa',\n",
       " 'M4-DE1-PCRa',\n",
       " 'CC1-DE1-PCRa',\n",
       " 'Ben10-R2-T1',\n",
       " 'Y4-DE1-PCRb',\n",
       " '20-3-3',\n",
       " 'GG0-DE1-PCRa',\n",
       " 'E2-DE1-PCRb',\n",
       " 'Ben2-R1-T3',\n",
       " 'H1-DE1-PCRa',\n",
       " 'E0-DE1-PCRa',\n",
       " '21-2-1',\n",
       " 'L2-DE1-PCRa',\n",
       " 'BB1-DE1-PCRa',\n",
       " 'H0-DE1-PCRa',\n",
       " 'M0-DE1-PCRa',\n",
       " '1.5%-R1-T1',\n",
       " '20-4-3',\n",
       " 'Ben10-R2-T4',\n",
       " 'A3-DE1-PCRb',\n",
       " 'Ben2-R2-T4',\n",
       " 'Y4-DE1-PCRa',\n",
       " 'U0-DE1-PCRa',\n",
       " 'J3-DE1-PCRa',\n",
       " 'CC3-DE1-PCRa',\n",
       " 'G0-DE1-PCRa',\n",
       " 'B2-DE1-PCRc',\n",
       " '1.4%-R1-T1',\n",
       " '13-2-1',\n",
       " 'Z0-DE1-PCRa',\n",
       " '18-2-1',\n",
       " 'S0-DE1-PCRa',\n",
       " 'Ben2-R1-T2',\n",
       " '6-1-2',\n",
       " '2.5%-R1-T3',\n",
       " 'C3-DE1-PCRa',\n",
       " 'EE1-DE1-PCRa',\n",
       " 'Y2-DE4-PCRa',\n",
       " 'U3-DE1-PCRa',\n",
       " '23-3-3',\n",
       " '3-2-1',\n",
       " 'Q4-DE1-PCRa',\n",
       " 'U2-DE1-PCRa',\n",
       " 'FF3-DE1-PCRa',\n",
       " 'F1-DE1-PCRa',\n",
       " '23-4-1',\n",
       " 'C2-DE2-PCRa',\n",
       " 'B0-DE3-PCRa',\n",
       " '1.4%-R1-T3',\n",
       " 'Q0-DE1-PCRa',\n",
       " 'I4-DE1-PCRa',\n",
       " 'K4-DE1-PCRa',\n",
       " 'EE4-DE1-PCRa',\n",
       " '6-1-1',\n",
       " 'T4-DE1-PCRa',\n",
       " 'Ben0.4-R1-T2',\n",
       " '1.6%-R1-T4',\n",
       " '3-3-1',\n",
       " 'AA3-DE1-PCRa',\n",
       " 'C0-DE1-PCRc',\n",
       " 'Ben2-R2-T2',\n",
       " 'E0-DE1-PCRb',\n",
       " '13-2-2',\n",
       " 'B2-DE2-PCRa',\n",
       " 'D4-DE1-PCRb',\n",
       " 'H0-DE1-PCRb',\n",
       " 'AA2-DE1-PCRa',\n",
       " '1.5%-R2-T4',\n",
       " '2.5%-R1-T4',\n",
       " 'C0-DE1-PCRa',\n",
       " 'Ben0.4-R2-T2',\n",
       " 'N3-DE1-PCRa',\n",
       " 'D1-DE1-PCRb',\n",
       " '1.6%-R1-T3',\n",
       " '21-3-3',\n",
       " 'C2-DE1-PCRa',\n",
       " 'Ben2-R1-T4',\n",
       " 'AA4-DE1-PCRa',\n",
       " '21-0-4',\n",
       " '3-0',\n",
       " 'R0-DE1-PCRa',\n",
       " 'Ben10-R1-T4',\n",
       " 'GG3-DE1-PCRa',\n",
       " '1.5%-R1-T4',\n",
       " '1.7%-R2-T2',\n",
       " '6-4-2',\n",
       " 'BB0-DE1-PCRa',\n",
       " 'B4-DE2-PCRb',\n",
       " 'P3-DE1-PCRa',\n",
       " 'D2-DE1-PCRb',\n",
       " '13-2-3',\n",
       " 'F3-DE1-PCRb',\n",
       " '20-4-2',\n",
       " 'DD3-DE1-PCRa',\n",
       " '1.5%-R1-T2',\n",
       " '18-2-3',\n",
       " 'T0-DE1-PCRa',\n",
       " '20-3-2',\n",
       " 'Tneg-DE1-PCRa',\n",
       " 'Q2-DE1-PCRa',\n",
       " 'Z3-DE1-PCRa',\n",
       " 'B4-DE3-PCRa',\n",
       " '21-1-2',\n",
       " 'GG2-DE1-PCRa',\n",
       " '23-1-1',\n",
       " 'E4-DE1-PCRa',\n",
       " 'R3-DE1-PCRa',\n",
       " '1.6%-R2-T2',\n",
       " 'K2-DE1-PCRa',\n",
       " 'Ben0.4-R2-T3',\n",
       " 'H2-DE1-PCRa',\n",
       " 'W1-DE1-PCRa',\n",
       " 'X4-DE1-PCRa',\n",
       " 'Q1-DE1-PCRa',\n",
       " 'C0-DE2-PCRa',\n",
       " 'J1-DE1-PCRa',\n",
       " 'O2-DE1-PCRa',\n",
       " '1.4%-R2-T1',\n",
       " '20-1-1',\n",
       " 'K1-DE1-PCRa',\n",
       " 'D0-DE1-PCRb',\n",
       " '13-0',\n",
       " 'L4-DE1-PCRa',\n",
       " '1.6%-R1-T2',\n",
       " '6-3-3',\n",
       " 'AA0-DE1-PCRa',\n",
       " 'Y2-DE1-PCRb',\n",
       " '21-0-1',\n",
       " 'T1-DE1-PCRa',\n",
       " 'Tneg-DE3-PCRa',\n",
       " 'G2-DE1-PCRa',\n",
       " 'K3-DE1-PCRa',\n",
       " 'EE3-DE1-PCRa',\n",
       " 'B0-DE2-PCRc',\n",
       " '1.6%-T0',\n",
       " '13-1-1',\n",
       " '3-2-2',\n",
       " 'Y4-DE2-PCRa',\n",
       " '23-1-2',\n",
       " 'E0-DE2-PCRa',\n",
       " 'B0-DE4-PCRa',\n",
       " '1.7%-R1-T4',\n",
       " 'S3-DE1-PCRa',\n",
       " '1.7%-R1-T2',\n",
       " 'Ben2-R1-T1',\n",
       " 'G3-DE1-PCRa',\n",
       " 'F2-DE1-PCRa',\n",
       " '23-2-1',\n",
       " 'Y1-DE1-PCRa',\n",
       " 'C4-DE1-PCRa',\n",
       " '2.5%-R1-T1',\n",
       " 'DD1-DE1-PCRa',\n",
       " '1.7%-R2-T4',\n",
       " '13-4-3',\n",
       " 'O3-DE1-PCRa',\n",
       " '1.6%-R2-T4',\n",
       " 'BB4-DE1-PCRa',\n",
       " 'Y2-DE3-PCRa',\n",
       " '1.5%-R1-T3',\n",
       " '18-4-3',\n",
       " 'A1-DE1-PCRb',\n",
       " '21+wt',\n",
       " 'B0-DE2-PCRb',\n",
       " 'N0-DE1-PCRa',\n",
       " 'Ben10-R1-T2',\n",
       " '2.5%-R2-T4',\n",
       " '20-2-1',\n",
       " 'Z0-DE2-PCRa',\n",
       " 'Q3-DE1-PCRa',\n",
       " '6-2-2',\n",
       " 'D4-DE1-PCRa',\n",
       " '3-2-3',\n",
       " 'Y0-DE1-PCRa',\n",
       " 'Y1-DE1-PCRb',\n",
       " 'L3-DE1-PCRa',\n",
       " 'C1-DE1-PCRa',\n",
       " 'I3-DE1-PCRa',\n",
       " '3-3-3',\n",
       " 'O1-DE1-PCRa',\n",
       " 'Ben10-R2-T3',\n",
       " 'A1-DE1-PCRa',\n",
       " 'C1-DE1-PCRb',\n",
       " '6-4-3',\n",
       " 'P2-DE1-PCRa',\n",
       " 'Y4-DE4-PCRa',\n",
       " 'J2-DE1-PCRa',\n",
       " '2.5%-R2-T3',\n",
       " '1.4%-R1-T2',\n",
       " 'Z4-DE2-PCRa',\n",
       " '6-1-3',\n",
       " '13-4-2',\n",
       " 'F0-DE1-PCRa',\n",
       " 'L0-DE1-PCRa',\n",
       " '18-1-1',\n",
       " 'E3-DE1-PCRa',\n",
       " 'M3-DE1-PCRa',\n",
       " 'B2-DE1-PCRa',\n",
       " '1.7%-R2-T1',\n",
       " '1.8%-R1-T1',\n",
       " '21-1-1',\n",
       " 'V4-DE1-PCRa',\n",
       " '18-4-2',\n",
       " '3-1-1',\n",
       " '1.5%-R2-T3',\n",
       " 'B4-DE5-PCRa',\n",
       " 'F1-DE1-PCRb',\n",
       " 'N4-DE1-PCRa',\n",
       " '1.4%-R2-T3',\n",
       " 'DD0-DE1-PCRa',\n",
       " 'FF1-DE1-PCRa',\n",
       " '23-2-3',\n",
       " '21-1-3',\n",
       " '6-2-1',\n",
       " '1.8%-R2-T4',\n",
       " 'C3-DE2-PCRa',\n",
       " 'E2-DE1-PCRa',\n",
       " 'FF4-DE1-PCRa',\n",
       " '1.4%-R1-T4',\n",
       " '1.7%-R2-T3',\n",
       " 'C4-DE2-PCRa',\n",
       " 'H4-DE1-PCRa',\n",
       " 'W4-DE1-PCRa',\n",
       " 'FF2-DE1-PCRa',\n",
       " 'Y0-DE2-PCRb',\n",
       " 'J0-DE1-PCRa',\n",
       " 'F3-DE1-PCRa',\n",
       " '1.8%-R2-T2',\n",
       " 'O0-DE1-PCRa',\n",
       " 'DD2-DE1-PCRa',\n",
       " 'V3-DE1-PCRa',\n",
       " 'G0-DE1-PCRb',\n",
       " '20-3-1',\n",
       " 'N1-DE1-PCRa',\n",
       " '1.7%-T0',\n",
       " '1.8%-R1-T3',\n",
       " '6-3-1',\n",
       " 'F0-DE1-PCRb',\n",
       " '21-4-2',\n",
       " '1.8%-R1-T2',\n",
       " 'AA1-DE1-PCRa',\n",
       " '6-3-2',\n",
       " '1.8%-R2-T1',\n",
       " 'Ben2-R2-T3',\n",
       " 'Ben0.4-T0',\n",
       " 'V1-DE1-PCRa',\n",
       " '18-1-3',\n",
       " '6-4-1',\n",
       " 'F0-DE2-PCRa',\n",
       " 'F2-DE1-PCRb',\n",
       " '1.5%-T0',\n",
       " '1.4%-R2-T2',\n",
       " 'Ben10-R2-T2',\n",
       " 'A4-DE1-PCRa',\n",
       " '1.5%-R2-T2',\n",
       " '1.6%-R2-T1',\n",
       " 'Y4-DE3-PCRa',\n",
       " 'EE2-DE1-PCRa',\n",
       " 'K0-DE1-PCRb',\n",
       " 'T3-DE1-PCRa',\n",
       " 'D3-DE1-PCRb',\n",
       " '18-2-2',\n",
       " 'S4-DE1-PCRa',\n",
       " '18-3-1',\n",
       " '20-1-2',\n",
       " 'Z2-DE1-PCRb',\n",
       " '1.8%-R1-T4',\n",
       " 'Ben0.4-R1-T3',\n",
       " 'Ben0.4-R1-T1',\n",
       " 'B2-DE3-PCRa',\n",
       " 'R4-DE1-PCRa',\n",
       " '21-2-2',\n",
       " '21-0-2',\n",
       " 'A3-DE1-PCRa',\n",
       " 'Y0-DE4-PCRa',\n",
       " '20-2-3',\n",
       " 'C0-DE1-PCRb',\n",
       " '2.5%-R2-T1',\n",
       " 'C4-DE3-PCRa',\n",
       " 'Z2-DE2-PCRa',\n",
       " '3-1-2',\n",
       " 'P0-DE1-PCRa',\n",
       " 'F4-DE1-PCRa',\n",
       " '1.4%-R2-T4',\n",
       " 'Tneg-DE2-PCRa',\n",
       " 'DD4-DE1-PCRa',\n",
       " 'V2-DE1-PCRa',\n",
       " 'P1-DE1-PCRa',\n",
       " 'B0-DE2-PCRa',\n",
       " 'P4-DE1-PCRa',\n",
       " '21-3-1',\n",
       " 'E1-DE2-PCRa',\n",
       " 'Ben2-T0',\n",
       " 'Ben10-R1-T3',\n",
       " '23-4-2',\n",
       " 'B2-DE4-PCRa',\n",
       " 'Ben0.4-R1-T4',\n",
       " 'E1-DE1-PCRa',\n",
       " '20-4-1',\n",
       " 'Ben0.4-R2-T4',\n",
       " '23-2-2',\n",
       " '1.8%-T0',\n",
       " 'A0-DE1-PCRa',\n",
       " 'B1-DE1-PCRa',\n",
       " 'F4-DE1-PCRb',\n",
       " 'D1-DE1-PCRa',\n",
       " '6-2-3',\n",
       " '23-3-1',\n",
       " 'D0-DE1-PCRa',\n",
       " 'D2-DE1-PCRa']"
      ]
     },
     "execution_count": 41,
     "metadata": {},
     "output_type": "execute_result"
    }
   ],
   "source": [
    "either_columns"
   ]
  },
  {
   "cell_type": "code",
   "execution_count": 42,
   "id": "78ada86f",
   "metadata": {},
   "outputs": [
    {
     "ename": "TypeError",
     "evalue": "only integer scalar arrays can be converted to a scalar index",
     "output_type": "error",
     "traceback": [
      "\u001b[0;31m---------------------------------------------------------------------------\u001b[0m",
      "\u001b[0;31mTypeError\u001b[0m                                 Traceback (most recent call last)",
      "\u001b[0;32m/var/folders/t0/s78ywp_n0sngtydd8db0z3_m0000gn/T/ipykernel_55343/3764435019.py\u001b[0m in \u001b[0;36m<module>\u001b[0;34m\u001b[0m\n\u001b[0;32m----> 1\u001b[0;31m \u001b[0meither_columns\u001b[0m\u001b[0;34m[\u001b[0m\u001b[0mnp\u001b[0m\u001b[0;34m.\u001b[0m\u001b[0masarray\u001b[0m\u001b[0;34m(\u001b[0m\u001b[0mnone\u001b[0m\u001b[0;34m[\u001b[0m\u001b[0meither_columns\u001b[0m\u001b[0;34m]\u001b[0m\u001b[0;34m.\u001b[0m\u001b[0msum\u001b[0m\u001b[0;34m(\u001b[0m\u001b[0;34m)\u001b[0m\u001b[0;34m<\u001b[0m\u001b[0;36m10\u001b[0m\u001b[0;34m**\u001b[0m\u001b[0;36m4\u001b[0m\u001b[0;34m)\u001b[0m\u001b[0;34m]\u001b[0m\u001b[0;34m\u001b[0m\u001b[0;34m\u001b[0m\u001b[0m\n\u001b[0m",
      "\u001b[0;31mTypeError\u001b[0m: only integer scalar arrays can be converted to a scalar index"
     ]
    }
   ],
   "source": [
    "either_columns[np.asarray(none[either_columns].sum()<10**4)]"
   ]
  },
  {
   "cell_type": "code",
   "execution_count": null,
   "id": "4794bd9b",
   "metadata": {},
   "outputs": [],
   "source": [
    "plt.scatter(np.sum(none[either_columns].values[:,:-1],axis=0)[1:],np.sum(standard[either_columns].values[:,:-1],axis=0)[1:],alpha=0.2)\n",
    "plt.scatter(np.sum(none[either_columns].values[:,:-1],axis=0)[1:],np.sum(forward[either_columns].values[:,:-1],axis=0)[1:],alpha=0.2)\n",
    "plt.scatter(np.sum(none[either_columns].values[:,:-1],axis=0)[1:],np.sum(reverse[either_columns].values[:,:-1],axis=0)[1:],alpha=0.2)\n",
    "plt.scatter(np.sum(none[either_columns].values[:,:-1],axis=0)[1:],np.sum(either[either_columns].values[:,:-1],axis=0)[1:],alpha=0.2)\n",
    "\n",
    "\n",
    "plt.yscale('log')\n",
    "plt.xscale('log')\n",
    "plt.plot([1,10**8],[1,10**8],'k--')"
   ]
  },
  {
   "cell_type": "code",
   "execution_count": 59,
   "id": "89771ec8",
   "metadata": {},
   "outputs": [
    {
     "data": {
      "text/plain": [
       "[<matplotlib.lines.Line2D at 0x7f827e63d700>]"
      ]
     },
     "execution_count": 59,
     "metadata": {},
     "output_type": "execute_result"
    },
    {
     "data": {
      "image/png": "[encoded data removed]",
      "text/plain": [
       "<Figure size 432x288 with 1 Axes>"
      ]
     },
     "metadata": {
      "needs_background": "light"
     },
     "output_type": "display_data"
    }
   ],
   "source": [
    "plt.scatter(np.sum(none[either_columns].values[:,:-1],axis=0)[1:],np.sum(standard[either_columns].values[:,:-1],axis=0)[1:],alpha=0.2)\n",
    "plt.scatter(np.sum(none[either_columns].values[:,:-1],axis=0)[1:],np.sum(forward[either_columns].values[:,:-1],axis=0)[1:],alpha=0.2)\n",
    "plt.scatter(np.sum(none[either_columns].values[:,:-1],axis=0)[1:],np.sum(reverse[either_columns].values[:,:-1],axis=0)[1:],alpha=0.2)\n",
    "plt.scatter(np.sum(none[either_columns].values[:,:-1],axis=0)[1:],np.sum(either[either_columns].values[:,:-1],axis=0)[1:],alpha=0.2)\n",
    "\n",
    "\n",
    "plt.yscale('log')\n",
    "plt.xscale('log')\n",
    "plt.plot([1,10**8],[1,10**8],'k--')"
   ]
  },
  {
   "cell_type": "code",
   "execution_count": 58,
   "id": "73372b0e",
   "metadata": {},
   "outputs": [
    {
     "name": "stderr",
     "output_type": "stream",
     "text": [
      "/var/folders/t0/s78ywp_n0sngtydd8db0z3_m0000gn/T/ipykernel_55343/511941520.py:2: RuntimeWarning: invalid value encountered in true_divide\n",
      "  sns.displot(np.sum(standard[either_columns].values[:,:-1],axis=0)[1:]/np.sum(none[either_columns].values[:,:-1],axis=0)[1:])\n",
      "/var/folders/t0/s78ywp_n0sngtydd8db0z3_m0000gn/T/ipykernel_55343/511941520.py:3: RuntimeWarning: invalid value encountered in true_divide\n",
      "  sns.displot(np.sum(forward[either_columns].values[:,:-1],axis=0)[1:]/np.sum(none[either_columns].values[:,:-1],axis=0)[1:])\n",
      "/var/folders/t0/s78ywp_n0sngtydd8db0z3_m0000gn/T/ipykernel_55343/511941520.py:4: RuntimeWarning: invalid value encountered in true_divide\n",
      "  sns.displot(np.sum(reverse[either_columns].values[:,:-1],axis=0)[1:]/np.sum(none[either_columns].values[:,:-1],axis=0)[1:])\n",
      "/var/folders/t0/s78ywp_n0sngtydd8db0z3_m0000gn/T/ipykernel_55343/511941520.py:5: RuntimeWarning: invalid value encountered in true_divide\n",
      "  sns.displot(np.sum(either[either_columns].values[:,:-1],axis=0)[1:]/np.sum(none[either_columns].values[:,:-1],axis=0)[1:])\n"
     ]
    },
    {
     "data": {
      "text/plain": [
       "<seaborn.axisgrid.FacetGrid at 0x7f827fc7d580>"
      ]
     },
     "execution_count": 58,
     "metadata": {},
     "output_type": "execute_result"
    },
    {
     "data": {
      "text/plain": [
       "<Figure size 432x288 with 0 Axes>"
      ]
     },
     "metadata": {},
     "output_type": "display_data"
    },
    {
     "data": {
      "image/png": "[encoded data removed]",
      "text/plain": [
       "<Figure size 360x360 with 1 Axes>"
      ]
     },
     "metadata": {
      "needs_background": "light"
     },
     "output_type": "display_data"
    },
    {
     "data": {
      "image/png": "[encoded data removed]",
      "text/plain": [
       "<Figure size 360x360 with 1 Axes>"
      ]
     },
     "metadata": {
      "needs_background": "light"
     },
     "output_type": "display_data"
    },
    {
     "data": {
      "image/png": "[encoded data removed]",
      "text/plain": [
       "<Figure size 360x360 with 1 Axes>"
      ]
     },
     "metadata": {
      "needs_background": "light"
     },
     "output_type": "display_data"
    },
    {
     "data": {
      "image/png": "[encoded data removed]",
      "text/plain": [
       "<Figure size 360x360 with 1 Axes>"
      ]
     },
     "metadata": {
      "needs_background": "light"
     },
     "output_type": "display_data"
    }
   ],
   "source": [
    "plt.figure()\n",
    "sns.displot(np.sum(standard[either_columns].values[:,:-1],axis=0)[1:]/np.sum(none[either_columns].values[:,:-1],axis=0)[1:])\n",
    "sns.displot(np.sum(forward[either_columns].values[:,:-1],axis=0)[1:]/np.sum(none[either_columns].values[:,:-1],axis=0)[1:])\n",
    "sns.displot(np.sum(reverse[either_columns].values[:,:-1],axis=0)[1:]/np.sum(none[either_columns].values[:,:-1],axis=0)[1:])\n",
    "sns.displot(np.sum(either[either_columns].values[:,:-1],axis=0)[1:]/np.sum(none[either_columns].values[:,:-1],axis=0)[1:])"
   ]
  },
  {
   "cell_type": "code",
   "execution_count": 49,
   "id": "89946de2",
   "metadata": {},
   "outputs": [
    {
     "name": "stderr",
     "output_type": "stream",
     "text": [
      "/var/folders/t0/s78ywp_n0sngtydd8db0z3_m0000gn/T/ipykernel_55343/1778843711.py:1: RuntimeWarning: invalid value encountered in true_divide\n",
      "  lots_tossed_ix = np.where(np.sum(standard.values,axis=0)[1:]/np.sum(none.values,axis=0)[1:]<0.9)[0]\n"
     ]
    }
   ],
   "source": [
    "lots_tossed_ix = np.where(np.sum(standard.values,axis=0)[1:]/np.sum(none.values,axis=0)[1:]<0.9)[0]\n",
    "lots_tossed_cols = standard.columns[[ix+1 for ix in lots_tossed_ix]]"
   ]
  },
  {
   "cell_type": "code",
   "execution_count": 57,
   "id": "09ac69b7",
   "metadata": {},
   "outputs": [
    {
     "data": {
      "image/png": "[encoded data removed]",
      "text/plain": [
       "<Figure size 432x288 with 1 Axes>"
      ]
     },
     "metadata": {
      "needs_background": "light"
     },
     "output_type": "display_data"
    },
    {
     "data": {
      "image/png": "[encoded data removed]",
      "text/plain": [
       "<Figure size 432x288 with 1 Axes>"
      ]
     },
     "metadata": {
      "needs_background": "light"
     },
     "output_type": "display_data"
    },
    {
     "data": {
      "image/png": "[encoded data removed]",
      "text/plain": [
       "<Figure size 432x288 with 1 Axes>"
      ]
     },
     "metadata": {
      "needs_background": "light"
     },
     "output_type": "display_data"
    },
    {
     "data": {
      "image/png": "[encoded data removed]",
      "text/plain": [
       "<Figure size 432x288 with 1 Axes>"
      ]
     },
     "metadata": {
      "needs_background": "light"
     },
     "output_type": "display_data"
    },
    {
     "data": {
      "image/png": "[encoded data removed]",
      "text/plain": [
       "<Figure size 432x288 with 1 Axes>"
      ]
     },
     "metadata": {
      "needs_background": "light"
     },
     "output_type": "display_data"
    },
    {
     "data": {
      "image/png": "[encoded data removed]",
      "text/plain": [
       "<Figure size 432x288 with 1 Axes>"
      ]
     },
     "metadata": {
      "needs_background": "light"
     },
     "output_type": "display_data"
    },
    {
     "data": {
      "image/png": "[encoded data removed]",
      "text/plain": [
       "<Figure size 432x288 with 1 Axes>"
      ]
     },
     "metadata": {
      "needs_background": "light"
     },
     "output_type": "display_data"
    }
   ],
   "source": [
    "for col in lots_tossed_cols:\n",
    "    plt.figure()\n",
    "    ratio = np.nansum(standard[col].values[:-1])/np.nansum(none[col].values[:-1])\n",
    "    ratio2 = np.nansum(standard[col].values)/np.nansum(none[col].values)\n",
    "    plt.title(f'{col} {ratio:.2g} {ratio2:.2g}')\n",
    "    plt.scatter(standard[col].values[:-1]/np.nansum(standard[col].values[:-1]),\n",
    "                none[col].values[:-1]/np.nansum(none[col].values[:-1]))\n",
    "    plt.plot([0,0.1],[0,0.1],'k--')\n",
    "    plt.yscale('log')\n",
    "    plt.xscale('log')"
   ]
  },
  {
   "cell_type": "code",
   "execution_count": null,
   "id": "fe195b1b",
   "metadata": {},
   "outputs": [],
   "source": []
  }
 ],
 "metadata": {
  "kernelspec": {
   "display_name": "Python 3",
   "language": "python",
   "name": "python3"
  },
  "language_info": {
   "codemirror_mode": {
    "name": "ipython",
    "version": 3
   },
   "file_extension": ".py",
   "mimetype": "text/x-python",
   "name": "python",
   "nbconvert_exporter": "python",
   "pygments_lexer": "ipython3",
   "version": "3.9.7"
  }
 },
 "nbformat": 4,
 "nbformat_minor": 5
}
