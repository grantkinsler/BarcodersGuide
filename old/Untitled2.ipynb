{
 "cells": [
  {
   "cell_type": "code",
   "execution_count": 16,
   "id": "8380d2ee",
   "metadata": {},
   "outputs": [],
   "source": [
    "import matplotlib.pyplot as plt\n",
    "import pandas as p\n",
    "import seaborn as sns\n",
    "import numpy as np\n",
    "%matplotlib inline\n",
    "from scipy.stats import linregress\n",
    "from scipy.spatial import distance\n",
    "from matplotlib import colors\n",
    "import scipy\n",
    "import os\n",
    "import copy\n",
    "# from matplotlib.backends.backend_pdf import PdfPages\n",
    "\n",
    "from ast import literal_eval\n",
    "\n",
    "sns.set_color_codes()\n",
    "sns.set_style('white')\n",
    "sns.set_style('ticks')\n",
    "\n",
    "import sys\n",
    "import os\n",
    "tools_path = '../EvolvingFront/code/tools.py'\n",
    "sys.path.append(os.path.dirname(os.path.expanduser(tools_path)))\n",
    "import tools as tools"
   ]
  },
  {
   "cell_type": "code",
   "execution_count": 55,
   "id": "1303231a",
   "metadata": {},
   "outputs": [],
   "source": []
  },
  {
   "cell_type": "code",
   "execution_count": 113,
   "id": "33a9a7a6",
   "metadata": {},
   "outputs": [
    {
     "data": {
      "image/png": "[encoded data removed]",
      "text/plain": [
       "<Figure size 432x288 with 1 Axes>"
      ]
     },
     "metadata": {},
     "output_type": "display_data"
    }
   ],
   "source": [
    "np.random.seed(9)\n",
    "\n",
    "# size_each_batch = 3\n",
    "\n",
    "# control_fitness = list(np.random.normal(0.7,0.09,size=size_each_batch)) + list(np.random.normal(0.5,0.09,size=size_each_batch))\n",
    "# drug_fitness = list(np.random.normal(0.5,0.09,size=size_each_batch)) + list(np.random.normal(0.3,0.09,size=size_each_batch))\n",
    "\n",
    "size_each_batch = 3\n",
    "\n",
    "control_fitness = list(np.random.normal(0.7,0.05,size=size_each_batch)) + list(np.random.normal(0.5,0.05,size=size_each_batch))\n",
    "drug_fitness = list(np.random.normal(0.5,0.05,size=size_each_batch)) + list(np.random.normal(0.3,0.05,size=size_each_batch))\n",
    "\n",
    "\n",
    "\n",
    "\n",
    "plt.scatter([tools.jitter_point(-0.0125,0.01) for i in range(size_each_batch)],control_fitness[:size_each_batch],color='k')\n",
    "plt.scatter([tools.jitter_point(0.1-0.0125,0.01) for i in range(size_each_batch)],drug_fitness[:size_each_batch],color='r')\n",
    "\n",
    "plt.errorbar(0.0125,np.mean(control_fitness[:size_each_batch]),yerr=1.96*np.std(control_fitness[:size_each_batch])/len(control_fitness[:size_each_batch]),color='k',marker='o',markerfacecolor='none',capsize=2)\n",
    "plt.errorbar(0.1+0.0125,np.mean(drug_fitness[:size_each_batch]),yerr=1.96*np.std(drug_fitness[:size_each_batch])/len(drug_fitness[:size_each_batch]),color='r',marker='o',markerfacecolor='none',capsize=2)\n",
    "\n",
    "\n",
    "plt.scatter([tools.jitter_point(0.2-0.0125,0.01) for i in range(size_each_batch)],control_fitness[size_each_batch:],color='k')\n",
    "plt.scatter([tools.jitter_point(0.3-0.0125,0.01) for i in range(size_each_batch)],drug_fitness[size_each_batch:],color='r')\n",
    "\n",
    "plt.errorbar(0.225-0.0125,np.mean(control_fitness[size_each_batch:]),yerr=1.96*np.std(control_fitness[size_each_batch:])/len(control_fitness[size_each_batch:]),color='k',marker='o',markerfacecolor='none',capsize=2)\n",
    "plt.errorbar(0.3+0.0125,np.mean(drug_fitness[size_each_batch:]),yerr=1.96*np.std(drug_fitness[size_each_batch:])/len(drug_fitness[size_each_batch:]),color='r',marker='o',markerfacecolor='none',capsize=2)\n",
    "\n",
    "plt.errorbar(0.4,np.mean(control_fitness),yerr=1.96*np.std(control_fitness)/len(control_fitness),color='k',marker='o',markerfacecolor='none',capsize=2)\n",
    "plt.errorbar(0.5,np.mean(drug_fitness),yerr=1.96*np.std(drug_fitness)/len(drug_fitness),color='r',marker='o',markerfacecolor='none',capsize=2)\n",
    "\n",
    "plt.axvspan(-0.05,0.15,color='lightgray',zorder=0)\n",
    "plt.axvspan(0.35,0.55,color='lightgray',zorder=0)\n",
    "\n",
    "plt.ylim(0,0.9)\n",
    "plt.xlim(-0.05,0.55)\n",
    "\n",
    "plt.xticks(np.linspace(0,0.5,6),['Control','Drug','Control','Drug','Control','Drug'])\n",
    "plt.text(x=0.05,y=-0.15,s='Batch 1',ha='center',size=15)\n",
    "plt.text(x=0.25,y=-0.15,s='Batch 2',ha='center',size=15)\n",
    "plt.text(x=0.45,y=-0.15,s='Aggregate',ha='center',size=15)\n",
    "\n",
    "plt.ylabel('Relative Fitness')\n",
    "plt.savefig('plots/Figure1.pdf',bbox_inches='tight')"
   ]
  },
  {
   "cell_type": "code",
   "execution_count": 83,
   "id": "56d94365",
   "metadata": {},
   "outputs": [
    {
     "data": {
      "text/plain": [
       "0.17365912117665"
      ]
     },
     "execution_count": 83,
     "metadata": {},
     "output_type": "execute_result"
    }
   ],
   "source": [
    "np.mean(control_fitness)-np.mean(drug_fitness)"
   ]
  },
  {
   "cell_type": "code",
   "execution_count": 84,
   "id": "cfd60b28",
   "metadata": {},
   "outputs": [
    {
     "data": {
      "text/plain": [
       "0.22533145762753065"
      ]
     },
     "execution_count": 84,
     "metadata": {},
     "output_type": "execute_result"
    }
   ],
   "source": [
    "np.mean(control_fitness[:3])-np.mean(drug_fitness[:3])"
   ]
  },
  {
   "cell_type": "code",
   "execution_count": 85,
   "id": "d3427024",
   "metadata": {},
   "outputs": [
    {
     "data": {
      "text/plain": [
       "0.1219867847257694"
      ]
     },
     "execution_count": 85,
     "metadata": {},
     "output_type": "execute_result"
    }
   ],
   "source": [
    "np.mean(control_fitness[3:])-np.mean(drug_fitness[3:])"
   ]
  },
  {
   "cell_type": "code",
   "execution_count": 89,
   "id": "6b7b833f",
   "metadata": {},
   "outputs": [
    {
     "data": {
      "text/plain": [
       "array([0. , 0.1, 0.2, 0.3, 0.4, 0.5])"
      ]
     },
     "execution_count": 89,
     "metadata": {},
     "output_type": "execute_result"
    }
   ],
   "source": [
    "np.linspace(0,0.5,6)"
   ]
  },
  {
   "cell_type": "code",
   "execution_count": 91,
   "id": "6804e3ad",
   "metadata": {},
   "outputs": [
    {
     "data": {
      "text/plain": [
       "array([0. , 0.1, 0.2, 0.3, 0.4, 0.5])"
      ]
     },
     "execution_count": 91,
     "metadata": {},
     "output_type": "execute_result"
    }
   ],
   "source": [
    "np.linspace(0,0.5,6)"
   ]
  },
  {
   "cell_type": "code",
   "execution_count": null,
   "id": "a3b0b32f",
   "metadata": {},
   "outputs": [],
   "source": []
  }
 ],
 "metadata": {
  "kernelspec": {
   "display_name": "Python 3",
   "language": "python",
   "name": "python3"
  },
  "language_info": {
   "codemirror_mode": {
    "name": "ipython",
    "version": 3
   },
   "file_extension": ".py",
   "mimetype": "text/x-python",
   "name": "python",
   "nbconvert_exporter": "python",
   "pygments_lexer": "ipython3",
   "version": "3.9.7"
  }
 },
 "nbformat": 4,
 "nbformat_minor": 5
}
