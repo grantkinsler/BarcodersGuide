{
 "cells": [
  {
   "cell_type": "code",
   "execution_count": 1,
   "metadata": {},
   "outputs": [],
   "source": [
    "import matplotlib.pyplot as plt\n",
    "import pandas as p\n",
    "import seaborn as sns\n",
    "import numpy as np\n",
    "%matplotlib inline\n",
    "from scipy.stats import linregress\n",
    "from scipy.spatial import distance\n",
    "from matplotlib import colors\n",
    "import scipy\n",
    "import os\n",
    "from matplotlib.backends.backend_pdf import PdfPages\n",
    "# from sklearn.decomposition import PCA\n",
    "from ast import literal_eval\n",
    "# sns.set()\n",
    "# sns.set_context('talk')\n",
    "# sns.set(font=\"Avenir\")\n",
    "sns.set_color_codes()\n",
    "sns.set_style('white')\n",
    "sns.set_style('ticks')\n",
    "# sns.set_style({'font.family': 'Avenir'})"
   ]
  },
  {
   "cell_type": "code",
   "execution_count": 2,
   "metadata": {},
   "outputs": [
    {
     "name": "stderr",
     "output_type": "stream",
     "text": [
      "/Library/Frameworks/Python.framework/Versions/3.6/lib/python3.6/site-packages/ipykernel_launcher.py:49: ParserWarning: Falling back to the 'python' engine because the 'c' engine does not support regex separators (separators > 1 char and different from '\\s+' are interpreted as regex); you can avoid this warning by specifying engine='python'.\n"
     ]
    },
    {
     "ename": "KeyError",
     "evalue": "'FwdPrimer'",
     "output_type": "error",
     "traceback": [
      "\u001b[0;31m---------------------------------------------------------------------------\u001b[0m",
      "\u001b[0;31mKeyError\u001b[0m                                  Traceback (most recent call last)",
      "\u001b[0;32m/Library/Frameworks/Python.framework/Versions/3.6/lib/python3.6/site-packages/pandas/core/indexes/base.py\u001b[0m in \u001b[0;36mget_loc\u001b[0;34m(self, key, method, tolerance)\u001b[0m\n\u001b[1;32m   2524\u001b[0m             \u001b[0;32mtry\u001b[0m\u001b[0;34m:\u001b[0m\u001b[0;34m\u001b[0m\u001b[0m\n\u001b[0;32m-> 2525\u001b[0;31m                 \u001b[0;32mreturn\u001b[0m \u001b[0mself\u001b[0m\u001b[0;34m.\u001b[0m\u001b[0m_engine\u001b[0m\u001b[0;34m.\u001b[0m\u001b[0mget_loc\u001b[0m\u001b[0;34m(\u001b[0m\u001b[0mkey\u001b[0m\u001b[0;34m)\u001b[0m\u001b[0;34m\u001b[0m\u001b[0m\n\u001b[0m\u001b[1;32m   2526\u001b[0m             \u001b[0;32mexcept\u001b[0m \u001b[0mKeyError\u001b[0m\u001b[0;34m:\u001b[0m\u001b[0;34m\u001b[0m\u001b[0m\n",
      "\u001b[0;32mpandas/_libs/index.pyx\u001b[0m in \u001b[0;36mpandas._libs.index.IndexEngine.get_loc\u001b[0;34m()\u001b[0m\n",
      "\u001b[0;32mpandas/_libs/index.pyx\u001b[0m in \u001b[0;36mpandas._libs.index.IndexEngine.get_loc\u001b[0;34m()\u001b[0m\n",
      "\u001b[0;32mpandas/_libs/hashtable_class_helper.pxi\u001b[0m in \u001b[0;36mpandas._libs.hashtable.PyObjectHashTable.get_item\u001b[0;34m()\u001b[0m\n",
      "\u001b[0;32mpandas/_libs/hashtable_class_helper.pxi\u001b[0m in \u001b[0;36mpandas._libs.hashtable.PyObjectHashTable.get_item\u001b[0;34m()\u001b[0m\n",
      "\u001b[0;31mKeyError\u001b[0m: 'FwdPrimer'",
      "\nDuring handling of the above exception, another exception occurred:\n",
      "\u001b[0;31mKeyError\u001b[0m                                  Traceback (most recent call last)",
      "\u001b[0;32m<ipython-input-2-80de6d3a28e0>\u001b[0m in \u001b[0;36m<module>\u001b[0;34m()\u001b[0m\n\u001b[1;32m     51\u001b[0m \u001b[0;31m# reads_df = reads_df.append(spiked,ignore_index=True)\u001b[0m\u001b[0;34m\u001b[0m\u001b[0;34m\u001b[0m\u001b[0m\n\u001b[1;32m     52\u001b[0m \u001b[0mreads\u001b[0m \u001b[0;34m=\u001b[0m \u001b[0;34m{\u001b[0m\u001b[0;34m}\u001b[0m\u001b[0;34m\u001b[0m\u001b[0m\n\u001b[0;32m---> 53\u001b[0;31m \u001b[0;32mfor\u001b[0m \u001b[0mfwd\u001b[0m \u001b[0;32min\u001b[0m \u001b[0mnp\u001b[0m\u001b[0;34m.\u001b[0m\u001b[0munique\u001b[0m\u001b[0;34m(\u001b[0m\u001b[0mreads_df\u001b[0m\u001b[0;34m[\u001b[0m\u001b[0;34m'FwdPrimer'\u001b[0m\u001b[0;34m]\u001b[0m\u001b[0;34m.\u001b[0m\u001b[0mvalues\u001b[0m\u001b[0;34m)\u001b[0m\u001b[0;34m:\u001b[0m\u001b[0;34m\u001b[0m\u001b[0m\n\u001b[0m\u001b[1;32m     54\u001b[0m     \u001b[0mreads\u001b[0m\u001b[0;34m[\u001b[0m\u001b[0mfwd\u001b[0m\u001b[0;34m]\u001b[0m \u001b[0;34m=\u001b[0m \u001b[0;34m{\u001b[0m\u001b[0;34m}\u001b[0m\u001b[0;34m\u001b[0m\u001b[0m\n\u001b[1;32m     55\u001b[0m     \u001b[0;32mfor\u001b[0m \u001b[0mrev\u001b[0m \u001b[0;32min\u001b[0m \u001b[0mnp\u001b[0m\u001b[0;34m.\u001b[0m\u001b[0munique\u001b[0m\u001b[0;34m(\u001b[0m\u001b[0mreads_df\u001b[0m\u001b[0;34m[\u001b[0m\u001b[0;34m'RevPrimer'\u001b[0m\u001b[0;34m]\u001b[0m\u001b[0;34m.\u001b[0m\u001b[0mvalues\u001b[0m\u001b[0;34m)\u001b[0m\u001b[0;34m:\u001b[0m\u001b[0;34m\u001b[0m\u001b[0m\n",
      "\u001b[0;32m/Library/Frameworks/Python.framework/Versions/3.6/lib/python3.6/site-packages/pandas/core/frame.py\u001b[0m in \u001b[0;36m__getitem__\u001b[0;34m(self, key)\u001b[0m\n\u001b[1;32m   2137\u001b[0m             \u001b[0;32mreturn\u001b[0m \u001b[0mself\u001b[0m\u001b[0;34m.\u001b[0m\u001b[0m_getitem_multilevel\u001b[0m\u001b[0;34m(\u001b[0m\u001b[0mkey\u001b[0m\u001b[0;34m)\u001b[0m\u001b[0;34m\u001b[0m\u001b[0m\n\u001b[1;32m   2138\u001b[0m         \u001b[0;32melse\u001b[0m\u001b[0;34m:\u001b[0m\u001b[0;34m\u001b[0m\u001b[0m\n\u001b[0;32m-> 2139\u001b[0;31m             \u001b[0;32mreturn\u001b[0m \u001b[0mself\u001b[0m\u001b[0;34m.\u001b[0m\u001b[0m_getitem_column\u001b[0m\u001b[0;34m(\u001b[0m\u001b[0mkey\u001b[0m\u001b[0;34m)\u001b[0m\u001b[0;34m\u001b[0m\u001b[0m\n\u001b[0m\u001b[1;32m   2140\u001b[0m \u001b[0;34m\u001b[0m\u001b[0m\n\u001b[1;32m   2141\u001b[0m     \u001b[0;32mdef\u001b[0m \u001b[0m_getitem_column\u001b[0m\u001b[0;34m(\u001b[0m\u001b[0mself\u001b[0m\u001b[0;34m,\u001b[0m \u001b[0mkey\u001b[0m\u001b[0;34m)\u001b[0m\u001b[0;34m:\u001b[0m\u001b[0;34m\u001b[0m\u001b[0m\n",
      "\u001b[0;32m/Library/Frameworks/Python.framework/Versions/3.6/lib/python3.6/site-packages/pandas/core/frame.py\u001b[0m in \u001b[0;36m_getitem_column\u001b[0;34m(self, key)\u001b[0m\n\u001b[1;32m   2144\u001b[0m         \u001b[0;31m# get column\u001b[0m\u001b[0;34m\u001b[0m\u001b[0;34m\u001b[0m\u001b[0m\n\u001b[1;32m   2145\u001b[0m         \u001b[0;32mif\u001b[0m \u001b[0mself\u001b[0m\u001b[0;34m.\u001b[0m\u001b[0mcolumns\u001b[0m\u001b[0;34m.\u001b[0m\u001b[0mis_unique\u001b[0m\u001b[0;34m:\u001b[0m\u001b[0;34m\u001b[0m\u001b[0m\n\u001b[0;32m-> 2146\u001b[0;31m             \u001b[0;32mreturn\u001b[0m \u001b[0mself\u001b[0m\u001b[0;34m.\u001b[0m\u001b[0m_get_item_cache\u001b[0m\u001b[0;34m(\u001b[0m\u001b[0mkey\u001b[0m\u001b[0;34m)\u001b[0m\u001b[0;34m\u001b[0m\u001b[0m\n\u001b[0m\u001b[1;32m   2147\u001b[0m \u001b[0;34m\u001b[0m\u001b[0m\n\u001b[1;32m   2148\u001b[0m         \u001b[0;31m# duplicate columns & possible reduce dimensionality\u001b[0m\u001b[0;34m\u001b[0m\u001b[0;34m\u001b[0m\u001b[0m\n",
      "\u001b[0;32m/Library/Frameworks/Python.framework/Versions/3.6/lib/python3.6/site-packages/pandas/core/generic.py\u001b[0m in \u001b[0;36m_get_item_cache\u001b[0;34m(self, item)\u001b[0m\n\u001b[1;32m   1840\u001b[0m         \u001b[0mres\u001b[0m \u001b[0;34m=\u001b[0m \u001b[0mcache\u001b[0m\u001b[0;34m.\u001b[0m\u001b[0mget\u001b[0m\u001b[0;34m(\u001b[0m\u001b[0mitem\u001b[0m\u001b[0;34m)\u001b[0m\u001b[0;34m\u001b[0m\u001b[0m\n\u001b[1;32m   1841\u001b[0m         \u001b[0;32mif\u001b[0m \u001b[0mres\u001b[0m \u001b[0;32mis\u001b[0m \u001b[0;32mNone\u001b[0m\u001b[0;34m:\u001b[0m\u001b[0;34m\u001b[0m\u001b[0m\n\u001b[0;32m-> 1842\u001b[0;31m             \u001b[0mvalues\u001b[0m \u001b[0;34m=\u001b[0m \u001b[0mself\u001b[0m\u001b[0;34m.\u001b[0m\u001b[0m_data\u001b[0m\u001b[0;34m.\u001b[0m\u001b[0mget\u001b[0m\u001b[0;34m(\u001b[0m\u001b[0mitem\u001b[0m\u001b[0;34m)\u001b[0m\u001b[0;34m\u001b[0m\u001b[0m\n\u001b[0m\u001b[1;32m   1843\u001b[0m             \u001b[0mres\u001b[0m \u001b[0;34m=\u001b[0m \u001b[0mself\u001b[0m\u001b[0;34m.\u001b[0m\u001b[0m_box_item_values\u001b[0m\u001b[0;34m(\u001b[0m\u001b[0mitem\u001b[0m\u001b[0;34m,\u001b[0m \u001b[0mvalues\u001b[0m\u001b[0;34m)\u001b[0m\u001b[0;34m\u001b[0m\u001b[0m\n\u001b[1;32m   1844\u001b[0m             \u001b[0mcache\u001b[0m\u001b[0;34m[\u001b[0m\u001b[0mitem\u001b[0m\u001b[0;34m]\u001b[0m \u001b[0;34m=\u001b[0m \u001b[0mres\u001b[0m\u001b[0;34m\u001b[0m\u001b[0m\n",
      "\u001b[0;32m/Library/Frameworks/Python.framework/Versions/3.6/lib/python3.6/site-packages/pandas/core/internals.py\u001b[0m in \u001b[0;36mget\u001b[0;34m(self, item, fastpath)\u001b[0m\n\u001b[1;32m   3841\u001b[0m \u001b[0;34m\u001b[0m\u001b[0m\n\u001b[1;32m   3842\u001b[0m             \u001b[0;32mif\u001b[0m \u001b[0;32mnot\u001b[0m \u001b[0misna\u001b[0m\u001b[0;34m(\u001b[0m\u001b[0mitem\u001b[0m\u001b[0;34m)\u001b[0m\u001b[0;34m:\u001b[0m\u001b[0;34m\u001b[0m\u001b[0m\n\u001b[0;32m-> 3843\u001b[0;31m                 \u001b[0mloc\u001b[0m \u001b[0;34m=\u001b[0m \u001b[0mself\u001b[0m\u001b[0;34m.\u001b[0m\u001b[0mitems\u001b[0m\u001b[0;34m.\u001b[0m\u001b[0mget_loc\u001b[0m\u001b[0;34m(\u001b[0m\u001b[0mitem\u001b[0m\u001b[0;34m)\u001b[0m\u001b[0;34m\u001b[0m\u001b[0m\n\u001b[0m\u001b[1;32m   3844\u001b[0m             \u001b[0;32melse\u001b[0m\u001b[0;34m:\u001b[0m\u001b[0;34m\u001b[0m\u001b[0m\n\u001b[1;32m   3845\u001b[0m                 \u001b[0mindexer\u001b[0m \u001b[0;34m=\u001b[0m \u001b[0mnp\u001b[0m\u001b[0;34m.\u001b[0m\u001b[0marange\u001b[0m\u001b[0;34m(\u001b[0m\u001b[0mlen\u001b[0m\u001b[0;34m(\u001b[0m\u001b[0mself\u001b[0m\u001b[0;34m.\u001b[0m\u001b[0mitems\u001b[0m\u001b[0;34m)\u001b[0m\u001b[0;34m)\u001b[0m\u001b[0;34m[\u001b[0m\u001b[0misna\u001b[0m\u001b[0;34m(\u001b[0m\u001b[0mself\u001b[0m\u001b[0;34m.\u001b[0m\u001b[0mitems\u001b[0m\u001b[0;34m)\u001b[0m\u001b[0;34m]\u001b[0m\u001b[0;34m\u001b[0m\u001b[0m\n",
      "\u001b[0;32m/Library/Frameworks/Python.framework/Versions/3.6/lib/python3.6/site-packages/pandas/core/indexes/base.py\u001b[0m in \u001b[0;36mget_loc\u001b[0;34m(self, key, method, tolerance)\u001b[0m\n\u001b[1;32m   2525\u001b[0m                 \u001b[0;32mreturn\u001b[0m \u001b[0mself\u001b[0m\u001b[0;34m.\u001b[0m\u001b[0m_engine\u001b[0m\u001b[0;34m.\u001b[0m\u001b[0mget_loc\u001b[0m\u001b[0;34m(\u001b[0m\u001b[0mkey\u001b[0m\u001b[0;34m)\u001b[0m\u001b[0;34m\u001b[0m\u001b[0m\n\u001b[1;32m   2526\u001b[0m             \u001b[0;32mexcept\u001b[0m \u001b[0mKeyError\u001b[0m\u001b[0;34m:\u001b[0m\u001b[0;34m\u001b[0m\u001b[0m\n\u001b[0;32m-> 2527\u001b[0;31m                 \u001b[0;32mreturn\u001b[0m \u001b[0mself\u001b[0m\u001b[0;34m.\u001b[0m\u001b[0m_engine\u001b[0m\u001b[0;34m.\u001b[0m\u001b[0mget_loc\u001b[0m\u001b[0;34m(\u001b[0m\u001b[0mself\u001b[0m\u001b[0;34m.\u001b[0m\u001b[0m_maybe_cast_indexer\u001b[0m\u001b[0;34m(\u001b[0m\u001b[0mkey\u001b[0m\u001b[0;34m)\u001b[0m\u001b[0;34m)\u001b[0m\u001b[0;34m\u001b[0m\u001b[0m\n\u001b[0m\u001b[1;32m   2528\u001b[0m \u001b[0;34m\u001b[0m\u001b[0m\n\u001b[1;32m   2529\u001b[0m         \u001b[0mindexer\u001b[0m \u001b[0;34m=\u001b[0m \u001b[0mself\u001b[0m\u001b[0;34m.\u001b[0m\u001b[0mget_indexer\u001b[0m\u001b[0;34m(\u001b[0m\u001b[0;34m[\u001b[0m\u001b[0mkey\u001b[0m\u001b[0;34m]\u001b[0m\u001b[0;34m,\u001b[0m \u001b[0mmethod\u001b[0m\u001b[0;34m=\u001b[0m\u001b[0mmethod\u001b[0m\u001b[0;34m,\u001b[0m \u001b[0mtolerance\u001b[0m\u001b[0;34m=\u001b[0m\u001b[0mtolerance\u001b[0m\u001b[0;34m)\u001b[0m\u001b[0;34m\u001b[0m\u001b[0m\n",
      "\u001b[0;32mpandas/_libs/index.pyx\u001b[0m in \u001b[0;36mpandas._libs.index.IndexEngine.get_loc\u001b[0;34m()\u001b[0m\n",
      "\u001b[0;32mpandas/_libs/index.pyx\u001b[0m in \u001b[0;36mpandas._libs.index.IndexEngine.get_loc\u001b[0;34m()\u001b[0m\n",
      "\u001b[0;32mpandas/_libs/hashtable_class_helper.pxi\u001b[0m in \u001b[0;36mpandas._libs.hashtable.PyObjectHashTable.get_item\u001b[0;34m()\u001b[0m\n",
      "\u001b[0;32mpandas/_libs/hashtable_class_helper.pxi\u001b[0m in \u001b[0;36mpandas._libs.hashtable.PyObjectHashTable.get_item\u001b[0;34m()\u001b[0m\n",
      "\u001b[0;31mKeyError\u001b[0m: 'FwdPrimer'"
     ]
    }
   ],
   "source": [
    "# reads = {'P104':{'P101':11297483,'P108':176974,'P109':116886,'P110':116021,'P126':122343,'P127':175026,'P128':118568,'P129':130425},\n",
    "#         'P105':{'P101':145548,'P108':5320816,'P109':141180,'P110':214279,'P126':255777,'P127':179705,'P128':105968,'P129':144688},\n",
    "#          'P111':{'P101':103766,'P108':142713,'P109':5819360,'P110':118691,'P126':146612,'P127':146799,'P128':452573,'P129':106691},\n",
    "#          'P112':{'P101':105337,'P108':132294,'P109':105871,'P110':7713064,'P126':114089,'P127':774597,'P128':94566,'P129':98694},\n",
    "#          'P122':{'P101':117642,'P108':151993,'P109':106913,'P110':124232,'P126':9255013,'P127':260973,'P128':115021,'P129':128170},\n",
    "#          'P123':{'P101':193064,'P108':260704,'P109':166518,'P110':195574,'P126':221858,'P127':17255590,'P128':230048,'P129':204500},\n",
    "#          'P124':{'P101':112986,'P108':151547,'P109':94961,'P110':105352,'P126':113328,'P127':180414,'P128':10433370,'P129':142270},\n",
    "#          'P125':{'P101':160023,'P108':161776,'P109':108978,'P110':156227,'P126':152434,'P127':249939,'P128':156332,'P129':10122216},\n",
    "# #          'P130':{'P101':25812,'P108':2268,'P109':2048,'P110':2278,'P126':1941,'P127':6076,'P128':3762,'P129':62100},\n",
    "#          'P131':{'P101':25812,'P108':2268,'P109':2048,'P110':2278,'P126':1941,'P127':6076,'P128':3762,'P129':62100},\n",
    "# #          'P132':{'P101':376,'P108':872,'P109':1701,'P110':1111,'P126':6660,'P127':775,'P128':394,'P129':625},\n",
    "#          'P133':{'P101':25812,'P108':2268,'P109':2048,'P110':2278,'P126':1941,'P127':6076,'P128':3762,'P129':62100}\n",
    "#         }\n",
    "\n",
    "\n",
    "## 1 Big Batch First Sequencing Run\n",
    "bb1_reads = {'P104':{'P101':11297492,'P108':176963,'P109':116876,'P110':116018,'P126':122327,'P127':175013,'P128':118551,'P129':130432},\n",
    "        'P105':{'P101':145545,'P108':5320795,'P109':141177,'P110':214283,'P126':255780,'P127':179705,'P128':105979,'P129':144691},\n",
    "         'P111':{'P101':109208,'P108':141098,'P109':5816661,'P110':116945,'P126':148799,'P127':135999,'P128':443637,'P129':118731},\n",
    "         'P112':{'P101':105323,'P108':132283,'P109':105855,'P110':7713012,'P126':114104,'P127':774587,'P128':94573,'P129':98678},\n",
    "         'P122':{'P101':117641,'P108':151996,'P109':106906,'P110':124232,'P126':9254987,'P127':260973,'P128':115010,'P129':128148},\n",
    "         'P123':{'P101':201765,'P108':262797,'P109':167368,'P110':209900,'P126':225316,'P127':17262036,'P128':233913,'P129':226306},\n",
    "         'P124':{'P101':112990,'P108':151548,'P109':94957,'P110':105360,'P126':113327,'P127':180419,'P128':10433379,'P129':142270},\n",
    "         'P125':{'P101':116350,'P108':146027,'P109':105229,'P110':110651,'P126':125646,'P127':236529,'P128':141302,'P129':10047498},\n",
    "         'P130':{'P101':25801,'P108':2259,'P109':2041,'P110':2261,'P126':1901,'P127':6065,'P128':3738,'P129':62057},\n",
    "         'P131':{'P101':28387,'P108':12783,'P109':2945,'P110':17919,'P126':20165,'P127':6653,'P128':19216,'P129':16112},\n",
    "         'P132':{'P101':375,'P108':874,'P109':1706,'P110':1106,'P126':6658,'P127':766,'P128':387,'P129':627},\n",
    "         'P133':{'P101':544,'P108':2193,'P109':2402,'P110':14736,'P126':619,'P127':11601,'P128':844,'P129':2214}\n",
    "        }\n",
    "\n",
    "real_pair = {'P104':{'P101':True,'P108':False,'P109':False,'P110':False,'P126':False,'P127':False,'P128':False,'P129':False},\n",
    "        'P105':{'P101':False,'P108':True,'P109':False,'P110':True,'P126':True,'P127':True,'P128':True,'P129':True},\n",
    "         'P111':{'P101':False,'P108':True,'P109':True,'P110':False,'P126':True,'P127':True,'P128':True,'P129':True},\n",
    "         'P112':{'P101':False,'P108':True,'P109':True,'P110':True,'P126':False,'P127':True,'P128':True,'P129':True},\n",
    "         'P122':{'P101':False,'P108':True,'P109':True,'P110':True,'P126':True,'P127':False,'P128':True,'P129':True},\n",
    "         'P123':{'P101':False,'P108':True,'P109':True,'P110':True,'P126':True,'P127':True,'P128':False,'P129':True},\n",
    "         'P124':{'P101':False,'P108':True,'P109':True,'P110':True,'P126':True,'P127':True,'P128':True,'P129':True},\n",
    "         'P125':{'P101':False,'P108':True,'P109':True,'P110':True,'P126':True,'P127':True,'P128':True,'P129':True},\n",
    "         'P130':{'P101':False,'P108':True,'P109':True,'P110':True,'P126':True,'P127':True,'P128':True,'P129':True},\n",
    "         'P131':{'P101':False,'P108':False,'P109':False,'P110':False,'P126':False,'P127':True,'P128':True,'P129':False},\n",
    "         'P132':{'P101':False,'P108':False,'P109':False,'P110':True,'P126':True,'P127':False,'P128':False,'P129':False},\n",
    "         'P133':{'P101':False,'P108':True,'P109':True,'P110':False,'P126':False,'P127':False,'P128':False,'P129':False}\n",
    "        }\n",
    "\n",
    "## 1 Big Batch Second Run (05 11 2018)\n",
    "\n",
    "# reads_df = p.read_table('BB_051118_allindices.tab',sep='    ')\n",
    "\n",
    "reads_df = p.read_table('BB_080618_condensedBarcodeCounts.tab',sep='    ')\n",
    "# spiked = {'FwdPrimer':'P123','RevPrimer':'P127','Reads':14112513}\n",
    "# reads_df = reads_df.append(spiked,ignore_index=True)\n",
    "reads = {}\n",
    "for fwd in np.unique(reads_df['FwdPrimer'].values):\n",
    "    reads[fwd] = {}\n",
    "    for rev in np.unique(reads_df['RevPrimer'].values):\n",
    "        print(fwd,rev)\n",
    "        this_pair = reads_df[(reads_df['FwdPrimer'].isin([fwd]) & (reads_df['RevPrimer'].isin([rev])))]\n",
    "        if len(this_pair) > 0:\n",
    "            reads[fwd][rev] = this_pair['Reads'].values[0]\n",
    "        else:\n",
    "            reads[fwd][rev] = 0\n",
    "            \n"
   ]
  },
  {
   "cell_type": "code",
   "execution_count": null,
   "metadata": {},
   "outputs": [],
   "source": [
    "np.mean()"
   ]
  },
  {
   "cell_type": "code",
   "execution_count": 39,
   "metadata": {},
   "outputs": [
    {
     "name": "stdout",
     "output_type": "stream",
     "text": [
      "P104 ['P101' 'P108' 'P109' 'P110' 'P126' 'P127' 'P128' 'P129']\n",
      "P105 ['P101' 'P108' 'P109' 'P110' 'P126' 'P127' 'P128' 'P129']\n",
      "P111 ['P101' 'P108' 'P109' 'P110' 'P126' 'P127' 'P128' 'P129']\n",
      "P112 ['P101' 'P108' 'P109' 'P110' 'P126' 'P127' 'P128' 'P129']\n",
      "P122 ['P101' 'P108' 'P109' 'P110' 'P126' 'P127' 'P128' 'P129']\n",
      "P123 ['P101' 'P108' 'P109' 'P110' 'P126' 'P127' 'P128' 'P129']\n",
      "P124 ['P101' 'P108' 'P109' 'P110' 'P126' 'P127' 'P128' 'P129']\n",
      "P125 ['P101' 'P108' 'P109' 'P110' 'P126' 'P127' 'P128' 'P129']\n",
      "P130 ['P101' 'P108' 'P109' 'P110' 'P126' 'P127' 'P128' 'P129']\n",
      "P131 ['P101' 'P108' 'P109' 'P110' 'P126' 'P127' 'P128' 'P129']\n",
      "P132 ['P101' 'P108' 'P109' 'P110' 'P126' 'P127' 'P128' 'P129']\n",
      "P133 ['P101' 'P108' 'P109' 'P110' 'P126' 'P127' 'P128' 'P129']\n"
     ]
    }
   ],
   "source": [
    "for f in np.unique(reads_df['FwdPrimer'].values):\n",
    "    print(f,np.sort(reads_df[reads_df['FwdPrimer']==f]['RevPrimer'].values))"
   ]
  },
  {
   "cell_type": "code",
   "execution_count": 4,
   "metadata": {},
   "outputs": [],
   "source": [
    "master_list = []\n",
    "\n",
    "for k,l in reads.items():\n",
    "    \n",
    "    master_list.append([i for k,i in l.items()])\n",
    "    \n",
    "pair_list = []  \n",
    "\n",
    "for k,l in real_pair.items():\n",
    "    \n",
    "    pair_list.append([i for k,i in l.items()])"
   ]
  },
  {
   "cell_type": "code",
   "execution_count": 19,
   "metadata": {},
   "outputs": [],
   "source": [
    "this = np.asarray(master_list).ravel()[[i for i in range(len(np.asarray(pair_list).ravel())) if np.asarray(pair_list).ravel()[i]]]"
   ]
  },
  {
   "cell_type": "code",
   "execution_count": 21,
   "metadata": {},
   "outputs": [
    {
     "name": "stdout",
     "output_type": "stream",
     "text": [
      "244064 2602790.172413793 14112513\n",
      "488.128 5205.580344827586 28225.026\n"
     ]
    }
   ],
   "source": [
    "print(np.min(this),np.mean(this),np.max(this))\n",
    "print(np.min(this)/500,np.mean(this)/500,np.max(this)/500)"
   ]
  },
  {
   "cell_type": "code",
   "execution_count": 41,
   "metadata": {},
   "outputs": [],
   "source": [
    "correct_list = np.zeros(np.asarray(master_list).shape)\n",
    "\n",
    "for i in range(len(correct_list)):\n",
    "    for j in range(len(correct_list[i])):\n",
    "        if i == j:\n",
    "            correct_list[i][j] = 0.0\n",
    "        else:\n",
    "            correct_list[i][j] = 1.0\n",
    "        "
   ]
  },
  {
   "cell_type": "code",
   "execution_count": 42,
   "metadata": {},
   "outputs": [
    {
     "data": {
      "text/plain": [
       "0.4106965453095005"
      ]
     },
     "execution_count": 42,
     "metadata": {},
     "output_type": "execute_result"
    }
   ],
   "source": [
    "np.sum([master_list[i][i] for i in range(8)])/np.sum(master_list)\n",
    "    "
   ]
  },
  {
   "cell_type": "code",
   "execution_count": 68,
   "metadata": {},
   "outputs": [
    {
     "data": {
      "text/plain": [
       "58"
      ]
     },
     "execution_count": 68,
     "metadata": {},
     "output_type": "execute_result"
    }
   ],
   "source": [
    "np.count_nonzero(master_list)"
   ]
  },
  {
   "cell_type": "code",
   "execution_count": 51,
   "metadata": {},
   "outputs": [
    {
     "data": {
      "image/png": "[encoded data removed]",
      "text/plain": [
       "<Figure size 432x288 with 1 Axes>"
      ]
     },
     "metadata": {},
     "output_type": "display_data"
    }
   ],
   "source": [
    "fig, ax1 = plt.subplots()\n",
    "pcm = plt.pcolormesh(pair_list,cmap='Blues')\n",
    "# pcm = plt.pcolormesh(real_pair,cmap='Blues',norm=colors.LogNorm(np.min(master_list),np.max(master_list)))\n",
    "# cbar = fig.colorbar(pcm,pad=0.16)\n",
    "# cbar.set_label('Number of Reads')"
   ]
  },
  {
   "cell_type": "code",
   "execution_count": 43,
   "metadata": {},
   "outputs": [
    {
     "data": {
      "image/png": "[encoded data removed]",
      "text/plain": [
       "<Figure size 432x288 with 4 Axes>"
      ]
     },
     "metadata": {},
     "output_type": "display_data"
    }
   ],
   "source": [
    "fig, ax1 = plt.subplots()\n",
    "# pcm = plt.pcolormesh(master_list,cmap='Blues')\n",
    "pcm = plt.pcolormesh(master_list,cmap='Blues',norm=colors.LogNorm(np.min(master_list),np.max(master_list)))\n",
    "cbar = fig.colorbar(pcm,pad=0.16)\n",
    "cbar.set_label('Number of Reads')\n",
    "\n",
    "plt.title('Evidence for Index Switching in #1BigBatch Sequencing',y=1.15,fontsize=13)\n",
    "\n",
    "# plt.plot(np.asarray(range(len(master_list[0])))+0.5,np.asarray(range(len(master_list[0])))+0.5,'ro',linestyle='')\n",
    "plt.gca().invert_yaxis()\n",
    "ax1.xaxis.tick_top()\n",
    "\n",
    "plt.xlabel('Percentage of Reads to Correct Rev. Primer',fontsize=11)\n",
    "plt.xticks(np.asarray(range(len(master_list[0])))+0.5,[str(round(max(i)/sum(i)*100,0)).split('.')[0] + '%' for i in np.asarray(master_list).swapaxes(0,1)])\n",
    "plt.ylabel('Forward Primers',fontsize=12)\n",
    "plt.yticks(np.asarray(range(len(master_list)))+0.5,reads.keys())\n",
    "\n",
    "ax2 = ax1.twinx()\n",
    "ax2.set_ylim(ax1.get_ylim())\n",
    "ax2.set_ylabel('Percentage of Reads to Correct Fwd. Primer',fontsize=11)\n",
    "ax2.set_yticks(np.asarray(range(len(master_list)))+0.5)\n",
    "ax2.set_yticklabels([str(round(max(i)/sum(i)*100,0)).split('.')[0] + '%' for i in master_list])\n",
    "\n",
    "ax3 = ax1.twiny()\n",
    "ax3.set_xlim(ax1.get_xlim())\n",
    "ax3.set_xticks(np.asarray(range(len(master_list[0])))+0.5,minor=False)\n",
    "ax3.set_xticklabels(reads['P104'].keys())\n",
    "ax3.set_xlabel('Reverse Primers',fontsize=12)\n",
    "leg = fig.legend(['True Pairs'],loc=(0.72,0.04),handletextpad=0.005,fontsize=11)\n",
    "for text in leg.get_texts():\n",
    "    text.set_color('r')\n",
    "plt.savefig('BB2_percentages.pdf',bbox_inches='tight')"
   ]
  },
  {
   "cell_type": "code",
   "execution_count": null,
   "metadata": {},
   "outputs": [],
   "source": [
    "independent_variables = []\n",
    "dependent_variables = []\n",
    "for i in range(len(master_list[0])):\n",
    "    for j in list(range(i)) + list(range(i+1,len(master_list[0]))):\n",
    "        independent_variables.append(master_list[i][i]+master_list[j][j])\n",
    "        dependent_variables.append(master_list[i][j])\n",
    "#         if master_list[i][j] < 400000:\n",
    "#             independent_variables.append(master_list[i][i]+master_list[j][j])\n",
    "#             dependent_variables.append(master_list[i][j])"
   ]
  },
  {
   "cell_type": "code",
   "execution_count": 236,
   "metadata": {},
   "outputs": [],
   "source": [
    "# fit linear model of constant fit\n",
    "\n",
    "# FiRj = alpha^2*Fi*Rj\n",
    "\n",
    "def minimizer(alpha):\n",
    "\n",
    "    return alpha*independent_variables-dependent_variables\n",
    "\n",
    "\n",
    "result = scipy.optimize.leastsq(minimizer,1e-5)\n",
    "rate = result[0][0]\n",
    "r2 = 1-(np.sum(np.square(np.asarray(dependent_variables)-rate*np.asarray(independent_variables)))/\n",
    "np.sum(np.square(np.asarray(dependent_variables)-np.mean(np.asarray(dependent_variables)))))\n",
    "# result = linregress(independent_variables,dependent_variables)"
   ]
  },
  {
   "cell_type": "code",
   "execution_count": 237,
   "metadata": {},
   "outputs": [
    {
     "data": {
      "text/plain": [
       "0.10189131639383353"
      ]
     },
     "execution_count": 237,
     "metadata": {},
     "output_type": "execute_result"
    }
   ],
   "source": [
    "r2"
   ]
  },
  {
   "cell_type": "code",
   "execution_count": 238,
   "metadata": {
    "scrolled": true
   },
   "outputs": [
    {
     "data": {
      "image/png": "[encoded data removed]",
      "text/plain": [
       "<Figure size 432x288 with 1 Axes>"
      ]
     },
     "metadata": {},
     "output_type": "display_data"
    }
   ],
   "source": [
    "fig, ax = plt.subplots()\n",
    "plt.scatter(np.asarray(independent_variables),np.asarray(dependent_variables))\n",
    "# plt.plot(np.asarray(independent_variables),result.slope*np.asarray(independent_variables)+result.intercept,'k--')\n",
    "plt.plot(np.asarray(independent_variables),r*np.asarray(independent_variables),'k--')\n",
    "plt.ylabel(\"Number of Template-switched Reads\",size=12)\n",
    "plt.xlabel(\"Sum of Correct Reads\",size=12)\n",
    "# plt.text(s='slope='+str(result.slope),x=1.55e14,y=750000,fontdict={'size':15})\n",
    "# plt.text(s='rate='+str(round(r,4)),x=1.1e7,y=750000,fontdict={'size':15})\n",
    "plt.text(s='rate='+str(round(rate,4)),x=2.45e7,y=80000,fontdict={'size':15})\n",
    "ax.xaxis.set_label_position('bottom') \n",
    "ax.xaxis.tick_bottom()\n",
    "# ax.invert_yaxis()\n",
    "# plt.legend([''])\n",
    "# plt.savefig('template_switching_rate_nooutliers.pdf',bbox_inches='tight')"
   ]
  },
  {
   "cell_type": "code",
   "execution_count": 76,
   "metadata": {},
   "outputs": [
    {
     "data": {
      "text/plain": [
       "LinregressResult(slope=6.455196746601199e-10, intercept=107257.3821176212, rvalue=0.2747427401426485, pvalue=0.04043927346469636, stderr=3.074281943828288e-10)"
      ]
     },
     "execution_count": 76,
     "metadata": {},
     "output_type": "execute_result"
    }
   ],
   "source": [
    "result"
   ]
  },
  {
   "cell_type": "code",
   "execution_count": 79,
   "metadata": {},
   "outputs": [
    {
     "name": "stdout",
     "output_type": "stream",
     "text": [
      "Help on function leastsq in module scipy.optimize.minpack:\n",
      "\n",
      "leastsq(func, x0, args=(), Dfun=None, full_output=0, col_deriv=0, ftol=1.49012e-08, xtol=1.49012e-08, gtol=0.0, maxfev=0, epsfcn=None, factor=100, diag=None)\n",
      "    Minimize the sum of squares of a set of equations.\n",
      "    \n",
      "    ::\n",
      "    \n",
      "        x = arg min(sum(func(y)**2,axis=0))\n",
      "                 y\n",
      "    \n",
      "    Parameters\n",
      "    ----------\n",
      "    func : callable\n",
      "        should take at least one (possibly length N vector) argument and\n",
      "        returns M floating point numbers. It must not return NaNs or\n",
      "        fitting might fail.\n",
      "    x0 : ndarray\n",
      "        The starting estimate for the minimization.\n",
      "    args : tuple, optional\n",
      "        Any extra arguments to func are placed in this tuple.\n",
      "    Dfun : callable, optional\n",
      "        A function or method to compute the Jacobian of func with derivatives\n",
      "        across the rows. If this is None, the Jacobian will be estimated.\n",
      "    full_output : bool, optional\n",
      "        non-zero to return all optional outputs.\n",
      "    col_deriv : bool, optional\n",
      "        non-zero to specify that the Jacobian function computes derivatives\n",
      "        down the columns (faster, because there is no transpose operation).\n",
      "    ftol : float, optional\n",
      "        Relative error desired in the sum of squares.\n",
      "    xtol : float, optional\n",
      "        Relative error desired in the approximate solution.\n",
      "    gtol : float, optional\n",
      "        Orthogonality desired between the function vector and the columns of\n",
      "        the Jacobian.\n",
      "    maxfev : int, optional\n",
      "        The maximum number of calls to the function. If `Dfun` is provided\n",
      "        then the default `maxfev` is 100*(N+1) where N is the number of elements\n",
      "        in x0, otherwise the default `maxfev` is 200*(N+1).\n",
      "    epsfcn : float, optional\n",
      "        A variable used in determining a suitable step length for the forward-\n",
      "        difference approximation of the Jacobian (for Dfun=None).\n",
      "        Normally the actual step length will be sqrt(epsfcn)*x\n",
      "        If epsfcn is less than the machine precision, it is assumed that the\n",
      "        relative errors are of the order of the machine precision.\n",
      "    factor : float, optional\n",
      "        A parameter determining the initial step bound\n",
      "        (``factor * || diag * x||``). Should be in interval ``(0.1, 100)``.\n",
      "    diag : sequence, optional\n",
      "        N positive entries that serve as a scale factors for the variables.\n",
      "    \n",
      "    Returns\n",
      "    -------\n",
      "    x : ndarray\n",
      "        The solution (or the result of the last iteration for an unsuccessful\n",
      "        call).\n",
      "    cov_x : ndarray\n",
      "        Uses the fjac and ipvt optional outputs to construct an\n",
      "        estimate of the jacobian around the solution. None if a\n",
      "        singular matrix encountered (indicates very flat curvature in\n",
      "        some direction).  This matrix must be multiplied by the\n",
      "        residual variance to get the covariance of the\n",
      "        parameter estimates -- see curve_fit.\n",
      "    infodict : dict\n",
      "        a dictionary of optional outputs with the key s:\n",
      "    \n",
      "        ``nfev``\n",
      "            The number of function calls\n",
      "        ``fvec``\n",
      "            The function evaluated at the output\n",
      "        ``fjac``\n",
      "            A permutation of the R matrix of a QR\n",
      "            factorization of the final approximate\n",
      "            Jacobian matrix, stored column wise.\n",
      "            Together with ipvt, the covariance of the\n",
      "            estimate can be approximated.\n",
      "        ``ipvt``\n",
      "            An integer array of length N which defines\n",
      "            a permutation matrix, p, such that\n",
      "            fjac*p = q*r, where r is upper triangular\n",
      "            with diagonal elements of nonincreasing\n",
      "            magnitude. Column j of p is column ipvt(j)\n",
      "            of the identity matrix.\n",
      "        ``qtf``\n",
      "            The vector (transpose(q) * fvec).\n",
      "    \n",
      "    mesg : str\n",
      "        A string message giving information about the cause of failure.\n",
      "    ier : int\n",
      "        An integer flag.  If it is equal to 1, 2, 3 or 4, the solution was\n",
      "        found.  Otherwise, the solution was not found. In either case, the\n",
      "        optional output variable 'mesg' gives more information.\n",
      "    \n",
      "    Notes\n",
      "    -----\n",
      "    \"leastsq\" is a wrapper around MINPACK's lmdif and lmder algorithms.\n",
      "    \n",
      "    cov_x is a Jacobian approximation to the Hessian of the least squares\n",
      "    objective function.\n",
      "    This approximation assumes that the objective function is based on the\n",
      "    difference between some observed target data (ydata) and a (non-linear)\n",
      "    function of the parameters `f(xdata, params)` ::\n",
      "    \n",
      "           func(params) = ydata - f(xdata, params)\n",
      "    \n",
      "    so that the objective function is ::\n",
      "    \n",
      "           min   sum((ydata - f(xdata, params))**2, axis=0)\n",
      "         params\n",
      "\n"
     ]
    }
   ],
   "source": [
    "help(scipy.optimize.leastsq)"
   ]
  },
  {
   "cell_type": "code",
   "execution_count": 219,
   "metadata": {},
   "outputs": [],
   "source": [
    "forward_primers = {'P104':'CGATGT','P105':'ACAGTG','P111':'TGACCA','P112':'GCCAAT','P122':'ATCACG',\n",
    "                   'P123':'CAGATC','P124':'GGCTAC','P125':'TAGCTT','P130':'TTAGGC','P131':'ACTTGA',\n",
    "                   'P132':'GATCAG','P133':'CTTGTA'}\n",
    "reverse_primers = {'P101':'TATATACGC','P108':'CGCTCTATC','P109':'GAGACGTCT','P110':'ATACTGCGT',\n",
    "                   'P126':'ACTAGCAGA','P127':'TGAGCTAGC','P128':'CTGCTACTC','P129':'GCGTACGCA'}"
   ]
  },
  {
   "cell_type": "code",
   "execution_count": 220,
   "metadata": {},
   "outputs": [],
   "source": [
    "def hamming_distance(s1, s2):\n",
    "    print(s1,s2)\n",
    "    assert len(s1) == len(s2)\n",
    "    return sum(ch1 != ch2 for ch1, ch2 in zip(s1, s2))"
   ]
  },
  {
   "cell_type": "code",
   "execution_count": 222,
   "metadata": {},
   "outputs": [
    {
     "name": "stdout",
     "output_type": "stream",
     "text": [
      "CGATGT CGATGT\n",
      "CGATGT ACAGTG\n",
      "CGATGT TGACCA\n",
      "CGATGT GCCAAT\n",
      "CGATGT ATCACG\n",
      "CGATGT CAGATC\n",
      "CGATGT GGCTAC\n",
      "CGATGT TAGCTT\n",
      "CGATGT TTAGGC\n",
      "CGATGT ACTTGA\n",
      "CGATGT GATCAG\n",
      "CGATGT CTTGTA\n",
      "ACAGTG CGATGT\n",
      "ACAGTG ACAGTG\n",
      "ACAGTG TGACCA\n",
      "ACAGTG GCCAAT\n",
      "ACAGTG ATCACG\n",
      "ACAGTG CAGATC\n",
      "ACAGTG GGCTAC\n",
      "ACAGTG TAGCTT\n",
      "ACAGTG TTAGGC\n",
      "ACAGTG ACTTGA\n",
      "ACAGTG GATCAG\n",
      "ACAGTG CTTGTA\n",
      "TGACCA CGATGT\n",
      "TGACCA ACAGTG\n",
      "TGACCA TGACCA\n",
      "TGACCA GCCAAT\n",
      "TGACCA ATCACG\n",
      "TGACCA CAGATC\n",
      "TGACCA GGCTAC\n",
      "TGACCA TAGCTT\n",
      "TGACCA TTAGGC\n",
      "TGACCA ACTTGA\n",
      "TGACCA GATCAG\n",
      "TGACCA CTTGTA\n",
      "GCCAAT CGATGT\n",
      "GCCAAT ACAGTG\n",
      "GCCAAT TGACCA\n",
      "GCCAAT GCCAAT\n",
      "GCCAAT ATCACG\n",
      "GCCAAT CAGATC\n",
      "GCCAAT GGCTAC\n",
      "GCCAAT TAGCTT\n",
      "GCCAAT TTAGGC\n",
      "GCCAAT ACTTGA\n",
      "GCCAAT GATCAG\n",
      "GCCAAT CTTGTA\n",
      "ATCACG CGATGT\n",
      "ATCACG ACAGTG\n",
      "ATCACG TGACCA\n",
      "ATCACG GCCAAT\n",
      "ATCACG ATCACG\n",
      "ATCACG CAGATC\n",
      "ATCACG GGCTAC\n",
      "ATCACG TAGCTT\n",
      "ATCACG TTAGGC\n",
      "ATCACG ACTTGA\n",
      "ATCACG GATCAG\n",
      "ATCACG CTTGTA\n",
      "CAGATC CGATGT\n",
      "CAGATC ACAGTG\n",
      "CAGATC TGACCA\n",
      "CAGATC GCCAAT\n",
      "CAGATC ATCACG\n",
      "CAGATC CAGATC\n",
      "CAGATC GGCTAC\n",
      "CAGATC TAGCTT\n",
      "CAGATC TTAGGC\n",
      "CAGATC ACTTGA\n",
      "CAGATC GATCAG\n",
      "CAGATC CTTGTA\n",
      "GGCTAC CGATGT\n",
      "GGCTAC ACAGTG\n",
      "GGCTAC TGACCA\n",
      "GGCTAC GCCAAT\n",
      "GGCTAC ATCACG\n",
      "GGCTAC CAGATC\n",
      "GGCTAC GGCTAC\n",
      "GGCTAC TAGCTT\n",
      "GGCTAC TTAGGC\n",
      "GGCTAC ACTTGA\n",
      "GGCTAC GATCAG\n",
      "GGCTAC CTTGTA\n",
      "TAGCTT CGATGT\n",
      "TAGCTT ACAGTG\n",
      "TAGCTT TGACCA\n",
      "TAGCTT GCCAAT\n",
      "TAGCTT ATCACG\n",
      "TAGCTT CAGATC\n",
      "TAGCTT GGCTAC\n",
      "TAGCTT TAGCTT\n",
      "TAGCTT TTAGGC\n",
      "TAGCTT ACTTGA\n",
      "TAGCTT GATCAG\n",
      "TAGCTT CTTGTA\n",
      "TTAGGC CGATGT\n",
      "TTAGGC ACAGTG\n",
      "TTAGGC TGACCA\n",
      "TTAGGC GCCAAT\n",
      "TTAGGC ATCACG\n",
      "TTAGGC CAGATC\n",
      "TTAGGC GGCTAC\n",
      "TTAGGC TAGCTT\n",
      "TTAGGC TTAGGC\n",
      "TTAGGC ACTTGA\n",
      "TTAGGC GATCAG\n",
      "TTAGGC CTTGTA\n",
      "ACTTGA CGATGT\n",
      "ACTTGA ACAGTG\n",
      "ACTTGA TGACCA\n",
      "ACTTGA GCCAAT\n",
      "ACTTGA ATCACG\n",
      "ACTTGA CAGATC\n",
      "ACTTGA GGCTAC\n",
      "ACTTGA TAGCTT\n",
      "ACTTGA TTAGGC\n",
      "ACTTGA ACTTGA\n",
      "ACTTGA GATCAG\n",
      "ACTTGA CTTGTA\n",
      "GATCAG CGATGT\n",
      "GATCAG ACAGTG\n",
      "GATCAG TGACCA\n",
      "GATCAG GCCAAT\n",
      "GATCAG ATCACG\n",
      "GATCAG CAGATC\n",
      "GATCAG GGCTAC\n",
      "GATCAG TAGCTT\n",
      "GATCAG TTAGGC\n",
      "GATCAG ACTTGA\n",
      "GATCAG GATCAG\n",
      "GATCAG CTTGTA\n",
      "CTTGTA CGATGT\n",
      "CTTGTA ACAGTG\n",
      "CTTGTA TGACCA\n",
      "CTTGTA GCCAAT\n",
      "CTTGTA ATCACG\n",
      "CTTGTA CAGATC\n",
      "CTTGTA GGCTAC\n",
      "CTTGTA TAGCTT\n",
      "CTTGTA TTAGGC\n",
      "CTTGTA ACTTGA\n",
      "CTTGTA GATCAG\n",
      "CTTGTA CTTGTA\n",
      "TATATACGC TATATACGC\n",
      "TATATACGC CGCTCTATC\n",
      "TATATACGC GAGACGTCT\n",
      "TATATACGC ATACTGCGT\n",
      "TATATACGC ACTAGCAGA\n",
      "TATATACGC TGAGCTAGC\n",
      "TATATACGC CTGCTACTC\n",
      "TATATACGC GCGTACGCA\n",
      "CGCTCTATC TATATACGC\n",
      "CGCTCTATC CGCTCTATC\n",
      "CGCTCTATC GAGACGTCT\n",
      "CGCTCTATC ATACTGCGT\n",
      "CGCTCTATC ACTAGCAGA\n",
      "CGCTCTATC TGAGCTAGC\n",
      "CGCTCTATC CTGCTACTC\n",
      "CGCTCTATC GCGTACGCA\n",
      "GAGACGTCT TATATACGC\n",
      "GAGACGTCT CGCTCTATC\n",
      "GAGACGTCT GAGACGTCT\n",
      "GAGACGTCT ATACTGCGT\n",
      "GAGACGTCT ACTAGCAGA\n",
      "GAGACGTCT TGAGCTAGC\n",
      "GAGACGTCT CTGCTACTC\n",
      "GAGACGTCT GCGTACGCA\n",
      "ATACTGCGT TATATACGC\n",
      "ATACTGCGT CGCTCTATC\n",
      "ATACTGCGT GAGACGTCT\n",
      "ATACTGCGT ATACTGCGT\n",
      "ATACTGCGT ACTAGCAGA\n",
      "ATACTGCGT TGAGCTAGC\n",
      "ATACTGCGT CTGCTACTC\n",
      "ATACTGCGT GCGTACGCA\n",
      "ACTAGCAGA TATATACGC\n",
      "ACTAGCAGA CGCTCTATC\n",
      "ACTAGCAGA GAGACGTCT\n",
      "ACTAGCAGA ATACTGCGT\n",
      "ACTAGCAGA ACTAGCAGA\n",
      "ACTAGCAGA TGAGCTAGC\n",
      "ACTAGCAGA CTGCTACTC\n",
      "ACTAGCAGA GCGTACGCA\n",
      "TGAGCTAGC TATATACGC\n",
      "TGAGCTAGC CGCTCTATC\n",
      "TGAGCTAGC GAGACGTCT\n",
      "TGAGCTAGC ATACTGCGT\n",
      "TGAGCTAGC ACTAGCAGA\n",
      "TGAGCTAGC TGAGCTAGC\n",
      "TGAGCTAGC CTGCTACTC\n",
      "TGAGCTAGC GCGTACGCA\n",
      "CTGCTACTC TATATACGC\n",
      "CTGCTACTC CGCTCTATC\n",
      "CTGCTACTC GAGACGTCT\n",
      "CTGCTACTC ATACTGCGT\n",
      "CTGCTACTC ACTAGCAGA\n",
      "CTGCTACTC TGAGCTAGC\n",
      "CTGCTACTC CTGCTACTC\n",
      "CTGCTACTC GCGTACGCA\n",
      "GCGTACGCA TATATACGC\n",
      "GCGTACGCA CGCTCTATC\n",
      "GCGTACGCA GAGACGTCT\n",
      "GCGTACGCA ATACTGCGT\n",
      "GCGTACGCA ACTAGCAGA\n",
      "GCGTACGCA TGAGCTAGC\n",
      "GCGTACGCA CTGCTACTC\n",
      "GCGTACGCA GCGTACGCA\n"
     ]
    }
   ],
   "source": [
    "forward_hamming = np.zeros((len(forward_primers.keys()),len(forward_primers.keys())))\n",
    "reverse_hamming = np.zeros((8,8))\n",
    "forward_list = []\n",
    "reverse_list = []\n",
    "for key,item in forward_primers.items():\n",
    "    forward_list.append(item)\n",
    "for key,item in reverse_primers.items():\n",
    "    reverse_list.append(item)\n",
    "    \n",
    "for i in range(len(forward_list)):\n",
    "    for j in range(len(forward_list)):\n",
    "        forward_hamming[i][j] = hamming_distance(forward_list[i],forward_list[j])\n",
    "        \n",
    "for i in range(len(reverse_list)):\n",
    "    for j in range(len(reverse_list)):\n",
    "        reverse_hamming[i][j] = hamming_distance(reverse_list[i],reverse_list[j])\n",
    "    "
   ]
  },
  {
   "cell_type": "code",
   "execution_count": 223,
   "metadata": {},
   "outputs": [
    {
     "data": {
      "text/plain": [
       "array([[0., 5., 4., 5., 6., 5., 4., 5., 4., 4., 6., 5.],\n",
       "       [5., 0., 5., 5., 4., 5., 6., 5., 4., 4., 5., 4.],\n",
       "       [4., 5., 0., 6., 5., 6., 5., 4., 4., 5., 5., 5.],\n",
       "       [5., 5., 6., 0., 4., 5., 3., 5., 6., 5., 4., 6.],\n",
       "       [6., 4., 5., 4., 0., 5., 5., 6., 5., 5., 5., 5.],\n",
       "       [5., 5., 6., 5., 5., 0., 5., 3., 5., 6., 5., 4.],\n",
       "       [4., 6., 5., 3., 5., 5., 0., 6., 5., 5., 4., 6.],\n",
       "       [5., 5., 4., 5., 6., 3., 6., 0., 5., 6., 4., 5.],\n",
       "       [4., 4., 4., 6., 5., 5., 5., 5., 0., 5., 6., 4.],\n",
       "       [4., 4., 5., 5., 5., 6., 5., 6., 5., 0., 5., 4.],\n",
       "       [6., 5., 5., 4., 5., 5., 4., 4., 6., 5., 0., 5.],\n",
       "       [5., 4., 5., 6., 5., 4., 6., 5., 4., 4., 5., 0.]])"
      ]
     },
     "execution_count": 223,
     "metadata": {},
     "output_type": "execute_result"
    }
   ],
   "source": [
    "forward_hamming"
   ]
  },
  {
   "cell_type": "code",
   "execution_count": 218,
   "metadata": {},
   "outputs": [
    {
     "data": {
      "text/plain": [
       "array([[0., 8., 7., 6., 6., 6., 5., 9.],\n",
       "       [8., 0., 8., 9., 8., 4., 6., 8.],\n",
       "       [7., 8., 0., 7., 8., 8., 8., 6.],\n",
       "       [6., 9., 7., 0., 7., 7., 5., 9.],\n",
       "       [6., 8., 8., 7., 0., 7., 9., 6.],\n",
       "       [6., 4., 8., 7., 7., 0., 8., 9.],\n",
       "       [5., 6., 8., 5., 9., 8., 0., 8.],\n",
       "       [9., 8., 6., 9., 6., 9., 8., 0.]])"
      ]
     },
     "execution_count": 218,
     "metadata": {},
     "output_type": "execute_result"
    }
   ],
   "source": [
    "reverse_hamming"
   ]
  },
  {
   "cell_type": "code",
   "execution_count": 230,
   "metadata": {},
   "outputs": [
    {
     "data": {
      "image/png": "[encoded data removed]",
      "text/plain": [
       "<Figure size 432x288 with 2 Axes>"
      ]
     },
     "metadata": {},
     "output_type": "display_data"
    },
    {
     "data": {
      "text/plain": [
       "<Figure size 432x288 with 0 Axes>"
      ]
     },
     "metadata": {},
     "output_type": "display_data"
    },
    {
     "data": {
      "image/png": "[encoded data removed]",
      "text/plain": [
       "<Figure size 432x288 with 2 Axes>"
      ]
     },
     "metadata": {},
     "output_type": "display_data"
    }
   ],
   "source": [
    "fig, ax1 = plt.subplots()\n",
    "pcm = plt.pcolormesh(forward_hamming,cmap='Reds')\n",
    "cbar = fig.colorbar(pcm,pad=0.16)\n",
    "cbar.set_label('Hamming Distance')\n",
    "plt.xticks(np.asarray(range(len(forward_primers.keys())))+0.5,forward_primers.keys())\n",
    "plt.yticks(np.asarray(range(len(forward_primers.keys())))+0.5,forward_primers.keys())\n",
    "plt.gca().invert_yaxis()\n",
    "\n",
    "plt.figure()\n",
    "fig2, ax2 = plt.subplots()\n",
    "pcm2 = plt.pcolormesh(reverse_hamming,cmap='Reds')\n",
    "cbar = fig2.colorbar(pcm2,pad=0.16)\n",
    "cbar.set_label('Hamming Distance')\n",
    "plt.xticks(np.asarray(range(len(reverse_primers.keys())))+0.5,reverse_primers.keys())\n",
    "plt.yticks(np.asarray(range(len(reverse_primers.keys())))+0.5,reverse_primers.keys())\n",
    "plt.gca().invert_yaxis()\n",
    "\n",
    "\n",
    "# plt.title('Evidence for Index Switching in #1BigBatch Sequencing',y=1.15,fontsize=13)\n",
    "\n",
    "# plt.plot(np.asarray(range(len(master_list[0])))+0.5,np.asarray(range(len(master_list[0])))+0.5,'ro',linestyle='')\n",
    "# plt.gca().invert_yaxis()\n",
    "# ax1.xaxis.tick_top()\n",
    "\n",
    "# plt.xlabel('Percentage of Reads to Correct Rev. Primer',fontsize=11)\n",
    "# plt.xticks(np.asarray(range(len(master_list[0])))+0.5,[str(round(max(i)/sum(i)*100,0)).split('.')[0] + '%' for i in np.asarray(master_list).swapaxes(0,1)])\n",
    "# plt.ylabel('Forward Primers',fontsize=12)\n",
    "# plt.yticks(np.asarray(range(len(master_list)))+0.5,reads.keys())\n",
    "\n",
    "# ax2 = ax1.twinx()\n",
    "# ax2.set_ylim(ax1.get_ylim())\n",
    "# ax2.set_ylabel('Percentage of Reads to Correct Fwd. Primer',fontsize=11)\n",
    "# ax2.set_yticks(np.asarray(range(len(master_list[:8])))+0.5)\n",
    "# ax2.set_yticklabels([str(round(max(i)/sum(i)*100,0)).split('.')[0] + '%' for i in master_list[:8]])\n",
    "\n",
    "# ax3 = ax1.twiny()\n",
    "# ax3.set_xlim(ax1.get_xlim())\n",
    "# ax3.set_xticks(np.asarray(range(len(master_list[0])))+0.5,minor=False)\n",
    "# ax3.set_xticklabels(reads['P104'].keys())\n",
    "# ax3.set_xlabel('Reverse Primers',fontsize=12)\n",
    "# leg = fig.legend(['True Pairs'],loc=(0.72,0.04),handletextpad=0.005,fontsize=11)\n",
    "# for text in leg.get_texts():\n",
    "#     text.set_color('r')\n",
    "# plt.savefig('technical_reps_index_heatmap_percentages.pdf',bbox_inches='tight')"
   ]
  },
  {
   "cell_type": "code",
   "execution_count": 3,
   "metadata": {},
   "outputs": [
    {
     "ename": "NameError",
     "evalue": "name 'pair_list' is not defined",
     "output_type": "error",
     "traceback": [
      "\u001b[0;31m---------------------------------------------------------------------------\u001b[0m",
      "\u001b[0;31mNameError\u001b[0m                                 Traceback (most recent call last)",
      "\u001b[0;32m<ipython-input-3-e8942905760f>\u001b[0m in \u001b[0;36m<module>\u001b[0;34m()\u001b[0m\n\u001b[1;32m     25\u001b[0m     \u001b[0;32mreturn\u001b[0m \u001b[0mleastsq\u001b[0m\u001b[0;34m\u001b[0m\u001b[0m\n\u001b[1;32m     26\u001b[0m \u001b[0;34m\u001b[0m\u001b[0m\n\u001b[0;32m---> 27\u001b[0;31m \u001b[0mnonzero_indices\u001b[0m \u001b[0;34m=\u001b[0m \u001b[0;34m[\u001b[0m\u001b[0mi\u001b[0m \u001b[0;32mfor\u001b[0m \u001b[0mi\u001b[0m \u001b[0;32min\u001b[0m \u001b[0mrange\u001b[0m\u001b[0;34m(\u001b[0m\u001b[0mlen\u001b[0m\u001b[0;34m(\u001b[0m\u001b[0mnp\u001b[0m\u001b[0;34m.\u001b[0m\u001b[0masarray\u001b[0m\u001b[0;34m(\u001b[0m\u001b[0mpair_list\u001b[0m\u001b[0;34m)\u001b[0m\u001b[0;34m.\u001b[0m\u001b[0mravel\u001b[0m\u001b[0;34m(\u001b[0m\u001b[0;34m)\u001b[0m\u001b[0;34m)\u001b[0m\u001b[0;34m)\u001b[0m \u001b[0;32mif\u001b[0m \u001b[0mnp\u001b[0m\u001b[0;34m.\u001b[0m\u001b[0masarray\u001b[0m\u001b[0;34m(\u001b[0m\u001b[0mpair_list\u001b[0m\u001b[0;34m)\u001b[0m\u001b[0;34m.\u001b[0m\u001b[0mravel\u001b[0m\u001b[0;34m(\u001b[0m\u001b[0;34m)\u001b[0m\u001b[0;34m[\u001b[0m\u001b[0mi\u001b[0m\u001b[0;34m]\u001b[0m\u001b[0;34m]\u001b[0m\u001b[0;34m\u001b[0m\u001b[0m\n\u001b[0m\u001b[1;32m     28\u001b[0m \u001b[0my\u001b[0m \u001b[0;34m=\u001b[0m \u001b[0mnp\u001b[0m\u001b[0;34m.\u001b[0m\u001b[0masarray\u001b[0m\u001b[0;34m(\u001b[0m\u001b[0mmaster_list\u001b[0m\u001b[0;34m)\u001b[0m\u001b[0;34m\u001b[0m\u001b[0m\n\u001b[1;32m     29\u001b[0m \u001b[0mrows\u001b[0m \u001b[0;34m=\u001b[0m \u001b[0mlen\u001b[0m\u001b[0;34m(\u001b[0m\u001b[0mmaster_list\u001b[0m\u001b[0;34m)\u001b[0m\u001b[0;34m\u001b[0m\u001b[0m\n",
      "\u001b[0;31mNameError\u001b[0m: name 'pair_list' is not defined"
     ]
    }
   ],
   "source": [
    "def ravel_x(x,rate,rows,columns,nonzero_indices):\n",
    "    \n",
    "    return np.r_[x.ravel()[nonzero_indices],rate]\n",
    "\n",
    "def unravel_x(flat,rows,columns,nonzero_indices):\n",
    "    \n",
    "    x = np.zeros((rows,columns))\n",
    "    np.put(x,nonzero_indices,flat[:-1])\n",
    "    \n",
    "    \n",
    "    return x, flat[-1]\n",
    "\n",
    "\n",
    "def function(x_flat,y,rows,columns,nonzero_indices):\n",
    "    \n",
    "    x, rate = unravel_x(x_flat,rows,columns,nonzero_indices)\n",
    "    \n",
    "    row_sums =  np.tile(np.sum(x,axis=0),(rows,1))\n",
    "    column_sums = np.tile(np.sum(x,axis=1),(columns,1)).T\n",
    "    \n",
    "    exp_y = (1-rate)*x + rate*row_sums + rate*column_sums\n",
    "    \n",
    "    leastsq = np.sum((y - exp_y)**2)\n",
    "    \n",
    "    return leastsq\n",
    "    \n",
    "nonzero_indices = [i for i in range(len(np.asarray(pair_list).ravel())) if np.asarray(pair_list).ravel()[i]]\n",
    "y = np.asarray(master_list)\n",
    "rows = len(master_list)\n",
    "columns = len(master_list[0])\n",
    "x = y\n",
    "rate = 0.01\n",
    "flat_x = ravel_x(x,rate,rows,columns,nonzero_indices)\n",
    "# print(len(flat_x))\n",
    "# print(y.shape())\n",
    "# print(function(flat_x,y,rows,columns,nonzero_indices))\n",
    "outcome = scipy.optimize.minimize(function,flat_x,args=(y,rows,columns,nonzero_indices))"
   ]
  },
  {
   "cell_type": "code",
   "execution_count": 96,
   "metadata": {},
   "outputs": [],
   "source": [
    "best_x, rate = unravel_x(outcome.x,rows,columns,nonzero_indices)"
   ]
  },
  {
   "cell_type": "code",
   "execution_count": 101,
   "metadata": {},
   "outputs": [
    {
     "name": "stdout",
     "output_type": "stream",
     "text": [
      "0.011241197776038906\n"
     ]
    },
    {
     "data": {
      "image/png": "[encoded data removed]",
      "text/plain": [
       "<Figure size 432x288 with 1 Axes>"
      ]
     },
     "metadata": {},
     "output_type": "display_data"
    }
   ],
   "source": [
    "plt.scatter(best_x,y)\n",
    "print(rate)"
   ]
  },
  {
   "cell_type": "code",
   "execution_count": 108,
   "metadata": {},
   "outputs": [
    {
     "data": {
      "image/png": "[encoded data removed]",
      "text/plain": [
       "<Figure size 432x288 with 4 Axes>"
      ]
     },
     "metadata": {},
     "output_type": "display_data"
    }
   ],
   "source": [
    "fig, ax1 = plt.subplots()\n",
    "pcm = plt.pcolormesh(best_x,cmap='Blues')\n",
    "# pcm = plt.pcolormesh(best_x,cmap='Blues',norm=colors.Log1pNorm(np.min(master_list),np.max(master_list)))\n",
    "cbar = fig.colorbar(pcm,pad=0.16)\n",
    "cbar.set_label('Number of Reads')\n",
    "\n",
    "plt.title('Evidence for Index Switching in #1BigBatch Sequencing',y=1.15,fontsize=13)\n",
    "\n",
    "# plt.plot(np.asarray(range(len(master_list[0])))+0.5,np.asarray(range(len(master_list[0])))+0.5,'ro',linestyle='')\n",
    "plt.gca().invert_yaxis()\n",
    "ax1.xaxis.tick_top()\n",
    "\n",
    "plt.xlabel('Percentage of Reads to Correct Rev. Primer',fontsize=11)\n",
    "plt.xticks(np.asarray(range(len(master_list[0])))+0.5,[str(round(max(i)/sum(i)*100,0)).split('.')[0] + '%' for i in np.asarray(best_x).swapaxes(0,1)])\n",
    "plt.ylabel('Forward Primers',fontsize=12)\n",
    "plt.yticks(np.asarray(range(len(master_list)))+0.5,reads.keys())\n",
    "\n",
    "ax2 = ax1.twinx()\n",
    "ax2.set_ylim(ax1.get_ylim())\n",
    "ax2.set_ylabel('Percentage of Reads to Correct Fwd. Primer',fontsize=11)\n",
    "ax2.set_yticks(np.asarray(range(len(master_list)))+0.5)\n",
    "ax2.set_yticklabels([str(round(max(i)/sum(i)*100,0)).split('.')[0] + '%' for i in best_x])\n",
    "\n",
    "ax3 = ax1.twiny()\n",
    "ax3.set_xlim(ax1.get_xlim())\n",
    "ax3.set_xticks(np.asarray(range(len(master_list[0])))+0.5,minor=False)\n",
    "ax3.set_xticklabels(reads['P104'].keys())\n",
    "ax3.set_xlabel('Reverse Primers',fontsize=12)\n",
    "leg = fig.legend(['True Pairs'],loc=(0.72,0.04),handletextpad=0.005,fontsize=11)\n",
    "for text in leg.get_texts():\n",
    "    text.set_color('r')\n",
    "# plt.savefig('BB2_percentages.pdf',bbox_inches='tight')"
   ]
  },
  {
   "cell_type": "code",
   "execution_count": 67,
   "metadata": {},
   "outputs": [
    {
     "data": {
      "text/plain": [
       "(array([0, 1, 1, 2, 2, 2, 3, 3, 3, 3, 4, 4, 4, 4, 4, 5, 5, 5, 5, 5, 6, 6,\n",
       "        6, 6, 6, 7, 7, 7, 7, 7, 8, 8, 8, 8, 8, 9, 9, 9, 9, 9]),\n",
       " array([0, 0, 1, 0, 1, 2, 0, 1, 2, 3, 0, 1, 2, 3, 4, 0, 1, 2, 3, 4, 0, 1,\n",
       "        2, 3, 4, 0, 1, 2, 3, 4, 0, 1, 2, 3, 4, 0, 1, 2, 3, 4]))"
      ]
     },
     "execution_count": 67,
     "metadata": {},
     "output_type": "execute_result"
    }
   ],
   "source": [
    "np.tril_indices(n=10, k=0, m=5)"
   ]
  },
  {
   "cell_type": "code",
   "execution_count": 73,
   "metadata": {},
   "outputs": [
    {
     "data": {
      "text/plain": [
       "[0,\n",
       " 9,\n",
       " 11,\n",
       " 12,\n",
       " 13,\n",
       " 14,\n",
       " 15,\n",
       " 17,\n",
       " 18,\n",
       " 20,\n",
       " 21,\n",
       " 22,\n",
       " 23,\n",
       " 25,\n",
       " 26,\n",
       " 27,\n",
       " 29,\n",
       " 30,\n",
       " 31,\n",
       " 33,\n",
       " 34,\n",
       " 35,\n",
       " 36,\n",
       " 38,\n",
       " 39,\n",
       " 41,\n",
       " 42,\n",
       " 43,\n",
       " 44,\n",
       " 45,\n",
       " 47,\n",
       " 49,\n",
       " 50,\n",
       " 51,\n",
       " 52,\n",
       " 53,\n",
       " 54,\n",
       " 55,\n",
       " 57,\n",
       " 58,\n",
       " 59,\n",
       " 60,\n",
       " 61,\n",
       " 62,\n",
       " 63,\n",
       " 65,\n",
       " 66,\n",
       " 67,\n",
       " 68,\n",
       " 69,\n",
       " 70,\n",
       " 71,\n",
       " 77,\n",
       " 78,\n",
       " 83,\n",
       " 84,\n",
       " 89,\n",
       " 90]"
      ]
     },
     "execution_count": 73,
     "metadata": {},
     "output_type": "execute_result"
    }
   ],
   "source": [
    "[i for i in range(len(np.asarray(pair_list).ravel())) if np.asarray(pair_list).ravel()[i]]"
   ]
  },
  {
   "cell_type": "code",
   "execution_count": null,
   "metadata": {},
   "outputs": [],
   "source": []
  }
 ],
 "metadata": {
  "kernelspec": {
   "display_name": "Python 3",
   "language": "python",
   "name": "python3"
  },
  "language_info": {
   "codemirror_mode": {
    "name": "ipython",
    "version": 3
   },
   "file_extension": ".py",
   "mimetype": "text/x-python",
   "name": "python",
   "nbconvert_exporter": "python",
   "pygments_lexer": "ipython3",
   "version": "3.6.4"
  }
 },
 "nbformat": 4,
 "nbformat_minor": 2
}
